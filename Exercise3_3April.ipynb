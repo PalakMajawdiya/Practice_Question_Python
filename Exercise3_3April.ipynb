{
  "nbformat": 4,
  "nbformat_minor": 0,
  "metadata": {
    "colab": {
      "name": "Exercise3_3April.ipynb",
      "provenance": [],
      "collapsed_sections": []
    },
    "kernelspec": {
      "name": "python3",
      "display_name": "Python 3"
    },
    "language_info": {
      "name": "python"
    }
  },
  "cells": [
    {
      "cell_type": "markdown",
      "source": [
        "# **Sum of elements in a list**"
      ],
      "metadata": {
        "id": "AJsr052fPmo4"
      }
    },
    {
      "cell_type": "code",
      "execution_count": null,
      "metadata": {
        "colab": {
          "base_uri": "https://localhost:8080/"
        },
        "id": "C7wt2pWMO26j",
        "outputId": "68921fbc-99f6-44a9-b6c6-3137b69cc6fe"
      },
      "outputs": [
        {
          "output_type": "stream",
          "name": "stdout",
          "text": [
            "2 4 6 8 \n",
            "20\n"
          ]
        }
      ],
      "source": [
        "l = list(map(int,input().split()))\n",
        "sum = 0\n",
        "for i in l:\n",
        "  sum = sum + i\n",
        "print(sum)"
      ]
    },
    {
      "cell_type": "markdown",
      "source": [
        "# **Multiply all numbers in list**"
      ],
      "metadata": {
        "id": "Hy1JgVVEQZFd"
      }
    },
    {
      "cell_type": "code",
      "source": [
        "l = list(map(int,input().split()))\n",
        "mul = 1\n",
        "for i in l:\n",
        "  mul = mul*i\n",
        "print(mul)"
      ],
      "metadata": {
        "colab": {
          "base_uri": "https://localhost:8080/"
        },
        "id": "CqIn8XlnQdv8",
        "outputId": "24d18063-9323-4d71-f92e-ef1916f08617"
      },
      "execution_count": null,
      "outputs": [
        {
          "output_type": "stream",
          "name": "stdout",
          "text": [
            "1 2 3 \n",
            "6\n"
          ]
        }
      ]
    },
    {
      "cell_type": "markdown",
      "source": [
        "# **Smallest number in a list**"
      ],
      "metadata": {
        "id": "E9LcevFoRPt2"
      }
    },
    {
      "cell_type": "code",
      "source": [
        "l = list(map(int,input().split()))\n",
        "min = l[0]\n",
        "for i in l:\n",
        "  if i<min:\n",
        "    min = i\n",
        "print(min)"
      ],
      "metadata": {
        "colab": {
          "base_uri": "https://localhost:8080/"
        },
        "id": "OEqillToSYXg",
        "outputId": "f2ffff2c-debd-4ca8-d6e8-a8c460bd1578"
      },
      "execution_count": null,
      "outputs": [
        {
          "output_type": "stream",
          "name": "stdout",
          "text": [
            "2 8 4 1 6\n",
            "1\n"
          ]
        }
      ]
    },
    {
      "cell_type": "markdown",
      "source": [
        "# **Reverse a list**"
      ],
      "metadata": {
        "id": "TAfIG5LwSsc_"
      }
    },
    {
      "cell_type": "code",
      "source": [
        "l = list(map(int,input().split()))\n",
        "l1 = []\n",
        "l1 = l[::-1]\n",
        "print(l1)\n"
      ],
      "metadata": {
        "colab": {
          "base_uri": "https://localhost:8080/"
        },
        "id": "nQ2OTNbeSx2z",
        "outputId": "29db9c62-2b0d-43e0-bcfb-d1356de92b6e"
      },
      "execution_count": null,
      "outputs": [
        {
          "output_type": "stream",
          "name": "stdout",
          "text": [
            "2 4 6 8 10\n",
            "[10, 8, 6, 4, 2]\n"
          ]
        }
      ]
    },
    {
      "cell_type": "markdown",
      "source": [
        "# **Clear a list**"
      ],
      "metadata": {
        "id": "IYk8c-ICTnFu"
      }
    },
    {
      "cell_type": "code",
      "source": [
        "l = list(map(int,input().split()))\n",
        "el = int(input())\n",
        "\n",
        "for i in l:\n",
        "  if i == el:\n",
        "    l.remove(i)\n",
        "print(l)\n"
      ],
      "metadata": {
        "id": "Y76EB-8HTmHu",
        "colab": {
          "base_uri": "https://localhost:8080/"
        },
        "outputId": "9ae14edb-4baa-4123-a703-672c777a0afa"
      },
      "execution_count": 10,
      "outputs": [
        {
          "output_type": "stream",
          "name": "stdout",
          "text": [
            "2 4 6 8 10 12\n",
            "8\n",
            "[2, 4, 6, 10, 12]\n"
          ]
        }
      ]
    },
    {
      "cell_type": "markdown",
      "source": [
        "# **Check if elements exists in a list**"
      ],
      "metadata": {
        "id": "gPbbgyIwVlz1"
      }
    },
    {
      "cell_type": "code",
      "source": [
        "l = list(map(int,input().split()))\n",
        "el = int(input())\n",
        "\n",
        "for i in l:\n",
        "  if i == el:\n",
        "    print(\"yes\")"
      ],
      "metadata": {
        "id": "EnsVIWUoVUb8",
        "colab": {
          "base_uri": "https://localhost:8080/"
        },
        "outputId": "afaa1631-0901-4652-ec3c-1d9e90aaa384"
      },
      "execution_count": 16,
      "outputs": [
        {
          "output_type": "stream",
          "name": "stdout",
          "text": [
            "2 4 6 8 10\n",
            "6\n",
            "yes\n"
          ]
        }
      ]
    },
    {
      "cell_type": "markdown",
      "source": [
        "# **To find length of list**"
      ],
      "metadata": {
        "id": "RlEteM5jWFPV"
      }
    },
    {
      "cell_type": "code",
      "source": [
        "l = list(map(int,input().split()))\n",
        "count = 0\n",
        "for i in l:\n",
        "  count +=1\n",
        "print(count)"
      ],
      "metadata": {
        "id": "LqSn95n9WEzg",
        "colab": {
          "base_uri": "https://localhost:8080/"
        },
        "outputId": "68fc1270-96ad-42ef-b73a-d209b7b69cdf"
      },
      "execution_count": 17,
      "outputs": [
        {
          "output_type": "stream",
          "name": "stdout",
          "text": [
            "2 4 6 8 10\n",
            "5\n"
          ]
        }
      ]
    },
    {
      "cell_type": "markdown",
      "source": [
        "# **Swap two elements in a list**"
      ],
      "metadata": {
        "id": "3bs1jrnVWWJN"
      }
    },
    {
      "cell_type": "code",
      "source": [
        "l = list(map(int,input().split()))\n",
        "in1 = int(input())\n",
        "in2 = int(input())\n",
        "\n",
        "t = l[in1]\n",
        "l[in1] = l[in2]\n",
        "l[in2] = t\n",
        "print(l)\n",
        "\n"
      ],
      "metadata": {
        "id": "VxWHfWTzWer3",
        "colab": {
          "base_uri": "https://localhost:8080/"
        },
        "outputId": "6241fba9-fb46-4cb4-9584-824cc37c6631"
      },
      "execution_count": 21,
      "outputs": [
        {
          "output_type": "stream",
          "name": "stdout",
          "text": [
            "2 4 6 8 10 12\n",
            "2\n",
            "4\n",
            "[2, 4, 10, 8, 6, 12]\n"
          ]
        }
      ]
    },
    {
      "cell_type": "markdown",
      "source": [
        "# **Interchange first and last element in a list**"
      ],
      "metadata": {
        "id": "Pi0htLLSXL3Q"
      }
    },
    {
      "cell_type": "code",
      "source": [
        "l = list(map(int,input().split()))\n",
        "t = l[0]\n",
        "l[0] = l[len(l)-1]\n",
        "l[len(l)-1] = t\n",
        "print(l)\n",
        "\n",
        "\n",
        "\n"
      ],
      "metadata": {
        "id": "dT1vkfvsXSYD",
        "colab": {
          "base_uri": "https://localhost:8080/"
        },
        "outputId": "ab2550af-a885-48fc-d90e-6a4dbdbe441a"
      },
      "execution_count": 20,
      "outputs": [
        {
          "output_type": "stream",
          "name": "stdout",
          "text": [
            "2 4 6 8 \n",
            "[8, 4, 6, 2]\n"
          ]
        }
      ]
    },
    {
      "cell_type": "markdown",
      "source": [
        "# **Check if given array is monotonic**"
      ],
      "metadata": {
        "id": "X5FW2BUjYiu9"
      }
    },
    {
      "cell_type": "code",
      "source": [
        "def ismonotonic(l):\n",
        "  return(all(l[i] <= l[i+1] for i in range(len(l) - 1)) or all(l[i] >= l[i+1] for i in range(len(l)-1)))\n",
        "\n",
        "\n",
        "\n",
        "l = list(map(int,input().split()))\n",
        "ismonotonic(l)\n"
      ],
      "metadata": {
        "colab": {
          "base_uri": "https://localhost:8080/"
        },
        "id": "kpOU0VTSYhMy",
        "outputId": "e2073662-e410-42e6-ae05-87a416a30613"
      },
      "execution_count": 25,
      "outputs": [
        {
          "name": "stdout",
          "output_type": "stream",
          "text": [
            "2 3 5 6 1\n"
          ]
        },
        {
          "output_type": "execute_result",
          "data": {
            "text/plain": [
              "False"
            ]
          },
          "metadata": {},
          "execution_count": 25
        }
      ]
    }
  ]
}