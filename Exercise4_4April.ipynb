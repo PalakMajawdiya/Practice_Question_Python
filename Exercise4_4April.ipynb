{
  "nbformat": 4,
  "nbformat_minor": 0,
  "metadata": {
    "colab": {
      "name": "Exercise4_4April.ipynb",
      "provenance": []
    },
    "kernelspec": {
      "name": "python3",
      "display_name": "Python 3"
    },
    "language_info": {
      "name": "python"
    }
  },
  "cells": [
    {
      "cell_type": "markdown",
      "source": [
        "# **Largest Number in a list**"
      ],
      "metadata": {
        "id": "UZ1qH41aebY2"
      }
    },
    {
      "cell_type": "code",
      "execution_count": 2,
      "metadata": {
        "colab": {
          "base_uri": "https://localhost:8080/"
        },
        "id": "cqWChSoNY1Sg",
        "outputId": "016e392a-f9b2-4de0-d4eb-ca8f0f4cd07a"
      },
      "outputs": [
        {
          "output_type": "stream",
          "name": "stdout",
          "text": [
            "2 6 12 10 7\n",
            "12\n"
          ]
        }
      ],
      "source": [
        "l = list(map(int,input().split()))\n",
        "max = l[0]\n",
        "for i in l:\n",
        "  if i>=max:\n",
        "    max = i\n",
        "print(max)"
      ]
    },
    {
      "cell_type": "markdown",
      "source": [
        "# **Second largest element in a list**"
      ],
      "metadata": {
        "id": "SBz9dQ6mevjo"
      }
    },
    {
      "cell_type": "code",
      "source": [
        "l = list(map(int,input().split()))\n",
        "l.sort()\n",
        "print(l[len(l)-2])"
      ],
      "metadata": {
        "colab": {
          "base_uri": "https://localhost:8080/"
        },
        "id": "WDp8pEDBe8ct",
        "outputId": "05360a1a-5577-49e5-b010-e0d70070b2bc"
      },
      "execution_count": 4,
      "outputs": [
        {
          "output_type": "stream",
          "name": "stdout",
          "text": [
            "2 6 8 10 12 3\n",
            "10\n"
          ]
        }
      ]
    },
    {
      "cell_type": "markdown",
      "source": [
        "# **N largest elements from a list**"
      ],
      "metadata": {
        "id": "pR_6GFgtf0PI"
      }
    },
    {
      "cell_type": "code",
      "source": [
        "l = list(map(int,input().split()))\n",
        "n = int(input())\n",
        "l1 = []\n",
        "l.sort(reverse = True)\n",
        "for i in l:\n",
        "  if i not in l1:\n",
        "    l1.append(i)\n",
        "\n",
        "print(l1[0:n+1])\n",
        "\n"
      ],
      "metadata": {
        "colab": {
          "base_uri": "https://localhost:8080/"
        },
        "id": "pk7AY3Y8fbcU",
        "outputId": "e6fd3a11-c2f1-4a7d-bbe8-4f20a7309516"
      },
      "execution_count": 10,
      "outputs": [
        {
          "output_type": "stream",
          "name": "stdout",
          "text": [
            "10 20 40 50 60 80 40 10\n",
            "4\n",
            "[80, 60, 50, 40, 20]\n"
          ]
        }
      ]
    },
    {
      "cell_type": "markdown",
      "source": [
        "# **Print even numbers in a list**"
      ],
      "metadata": {
        "id": "9X7zoFT5hd-C"
      }
    },
    {
      "cell_type": "code",
      "source": [
        "l = list(map(int,input().split()))\n",
        "for i in l:\n",
        "  if i%2 == 0:\n",
        "    print(i)"
      ],
      "metadata": {
        "colab": {
          "base_uri": "https://localhost:8080/"
        },
        "id": "1DGaGm-8hdC_",
        "outputId": "84f22a99-e739-4003-de99-03be857b604b"
      },
      "execution_count": 11,
      "outputs": [
        {
          "output_type": "stream",
          "name": "stdout",
          "text": [
            "1 3 5 2 6 8 13\n",
            "2\n",
            "6\n",
            "8\n"
          ]
        }
      ]
    },
    {
      "cell_type": "markdown",
      "source": [
        "# **Odd Numbers in a list**"
      ],
      "metadata": {
        "id": "AJsrjoYmhuSs"
      }
    },
    {
      "cell_type": "code",
      "source": [
        "l = list(map(int,input().split()))\n",
        "for i in l:\n",
        "  if i%2 !=0:\n",
        "    print(i)"
      ],
      "metadata": {
        "colab": {
          "base_uri": "https://localhost:8080/"
        },
        "id": "jtOAtP2hht8z",
        "outputId": "b41ee159-2e68-40b3-fb39-a32b02d11b59"
      },
      "execution_count": 12,
      "outputs": [
        {
          "output_type": "stream",
          "name": "stdout",
          "text": [
            "2 4 6 1 3 5 7 11\n",
            "1\n",
            "3\n",
            "5\n",
            "7\n",
            "11\n"
          ]
        }
      ]
    },
    {
      "cell_type": "markdown",
      "source": [
        "# **Print Even numbers in a range**"
      ],
      "metadata": {
        "id": "IjEuv4sIiCn9"
      }
    },
    {
      "cell_type": "code",
      "source": [
        "a = int(input())\n",
        "b = int(input())\n",
        "\n",
        "for i in range(a,b+1):\n",
        "  if i%2 == 0:\n",
        "    print(i)"
      ],
      "metadata": {
        "colab": {
          "base_uri": "https://localhost:8080/"
        },
        "id": "nrLslaDmiPWy",
        "outputId": "042ad32b-ef60-468e-b8a4-ff5d944c85f5"
      },
      "execution_count": 14,
      "outputs": [
        {
          "output_type": "stream",
          "name": "stdout",
          "text": [
            "5\n",
            "17\n",
            "6\n",
            "8\n",
            "10\n",
            "12\n",
            "14\n",
            "16\n"
          ]
        }
      ]
    },
    {
      "cell_type": "markdown",
      "source": [
        "# **Print all odd numbers in a range**"
      ],
      "metadata": {
        "id": "xqRDASLiilkj"
      }
    },
    {
      "cell_type": "code",
      "source": [
        "a = int(input())\n",
        "b = int(input())\n",
        "for i in range(a,b+1):\n",
        "  if i%2 !=0:\n",
        "    print(i)"
      ],
      "metadata": {
        "colab": {
          "base_uri": "https://localhost:8080/"
        },
        "id": "bYEzRrmMilIo",
        "outputId": "427e6560-6082-4d6c-83f5-47adfcf6b16b"
      },
      "execution_count": 15,
      "outputs": [
        {
          "output_type": "stream",
          "name": "stdout",
          "text": [
            "4\n",
            "18\n",
            "5\n",
            "7\n",
            "9\n",
            "11\n",
            "13\n",
            "15\n",
            "17\n"
          ]
        }
      ]
    },
    {
      "cell_type": "markdown",
      "source": [
        "# **Print Positive number in a list**"
      ],
      "metadata": {
        "id": "RwajHZnMi55w"
      }
    },
    {
      "cell_type": "code",
      "source": [
        "l = list(map(int,input().split()))\n",
        "for i in l:\n",
        "  if i>=0:\n",
        "    print(i)"
      ],
      "metadata": {
        "colab": {
          "base_uri": "https://localhost:8080/"
        },
        "id": "TpuQuQxXi1Yk",
        "outputId": "3245c692-9a1f-40df-cb30-c79733d4f224"
      },
      "execution_count": 16,
      "outputs": [
        {
          "output_type": "stream",
          "name": "stdout",
          "text": [
            "2 -1 3 4 -5 0 7 -2\n",
            "2\n",
            "3\n",
            "4\n",
            "0\n",
            "7\n"
          ]
        }
      ]
    },
    {
      "cell_type": "markdown",
      "source": [
        "# **Print all negative numbers in a list**"
      ],
      "metadata": {
        "id": "fbIFtGUujL0n"
      }
    },
    {
      "cell_type": "code",
      "source": [
        "l = list(map(int,input().split()))\n",
        "for i in l:\n",
        "  if i<0:\n",
        "    print(i)"
      ],
      "metadata": {
        "colab": {
          "base_uri": "https://localhost:8080/"
        },
        "id": "o7lOaDcqjR26",
        "outputId": "fcfb77e9-0888-4425-9759-b8cc2bc51c50"
      },
      "execution_count": 17,
      "outputs": [
        {
          "output_type": "stream",
          "name": "stdout",
          "text": [
            " 2 -1 0 3 -4 -5 -8 1\n",
            "-1\n",
            "-4\n",
            "-5\n",
            "-8\n"
          ]
        }
      ]
    },
    {
      "cell_type": "markdown",
      "source": [
        "# **Print all positive numbers in a range**"
      ],
      "metadata": {
        "id": "MNIpK19ojbRK"
      }
    },
    {
      "cell_type": "code",
      "source": [
        "a = int(input())\n",
        "b = int(input())\n",
        "for i in range(a,b+1):\n",
        "  if i>=0:\n",
        "    print(i)"
      ],
      "metadata": {
        "colab": {
          "base_uri": "https://localhost:8080/"
        },
        "id": "fGTyRIUZjlDb",
        "outputId": "e0f73620-56d0-46f9-fc68-004e458a4a31"
      },
      "execution_count": 18,
      "outputs": [
        {
          "output_type": "stream",
          "name": "stdout",
          "text": [
            "-8\n",
            "8\n",
            "0\n",
            "1\n",
            "2\n",
            "3\n",
            "4\n",
            "5\n",
            "6\n",
            "7\n",
            "8\n"
          ]
        }
      ]
    }
  ]
}