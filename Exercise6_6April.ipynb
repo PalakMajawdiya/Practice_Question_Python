{
  "nbformat": 4,
  "nbformat_minor": 0,
  "metadata": {
    "colab": {
      "name": "Exercise6_6April.ipynb",
      "provenance": [],
      "collapsed_sections": []
    },
    "kernelspec": {
      "name": "python3",
      "display_name": "Python 3"
    },
    "language_info": {
      "name": "python"
    }
  },
  "cells": [
    {
      "cell_type": "markdown",
      "source": [
        "# **Check if a string is Palindrome or not**"
      ],
      "metadata": {
        "id": "oYFHLqwUxOoJ"
      }
    },
    {
      "cell_type": "code",
      "execution_count": 23,
      "metadata": {
        "colab": {
          "base_uri": "https://localhost:8080/"
        },
        "id": "n0mPT-E6jAN9",
        "outputId": "0efffb73-f4a8-4a50-c283-544edc640bd4"
      },
      "outputs": [
        {
          "name": "stdout",
          "output_type": "stream",
          "text": [
            "maram\n"
          ]
        }
      ],
      "source": [
        "def pal(s):\n",
        "  l = len(s)//2\n",
        "  s1 = s[:l]\n",
        "  s2 = s[l+1:]\n",
        "  l2 = len(s2)\n",
        "  for i in range(0,len(s1)):\n",
        "    if s1[i] == s2[l2-1]:\n",
        "      l2 = l2-1\n",
        "      continue\n",
        "    else:\n",
        "      print(\"No\")\n",
        "      break\n",
        "\n",
        "s = str(input())\n",
        "pal(s)"
      ]
    },
    {
      "cell_type": "code",
      "source": [
        "#Method 2\n",
        "\n",
        "s = str(input())\n",
        "if s == s[::-1]:\n",
        "  print(\"Yes\")\n",
        "else:\n",
        "  print(\"No\")"
      ],
      "metadata": {
        "colab": {
          "base_uri": "https://localhost:8080/"
        },
        "id": "gREdZylUBJZT",
        "outputId": "168f6c4d-f11c-4773-8b82-78dfbb222b8e"
      },
      "execution_count": 24,
      "outputs": [
        {
          "output_type": "stream",
          "name": "stdout",
          "text": [
            "racecar\n",
            "Yes\n"
          ]
        }
      ]
    },
    {
      "cell_type": "markdown",
      "source": [
        "# **Check whether the string is symmetrical or Palindrome**"
      ],
      "metadata": {
        "id": "t2WHmRq8COWE"
      }
    },
    {
      "cell_type": "code",
      "source": [
        "s = str(input())\n",
        "l = len(s)//2\n",
        "if s[0:l] == s[l:]:\n",
        "  print(\"Yes! Symmetrical\")\n",
        "else:\n",
        "  print(\"No\")"
      ],
      "metadata": {
        "colab": {
          "base_uri": "https://localhost:8080/"
        },
        "id": "GbL2n8RHCWun",
        "outputId": "ec0a4503-5dd0-45ee-8cd6-73cc4984f866"
      },
      "execution_count": 27,
      "outputs": [
        {
          "output_type": "stream",
          "name": "stdout",
          "text": [
            "amaama\n",
            "Yes! Symmetrical\n"
          ]
        }
      ]
    },
    {
      "cell_type": "markdown",
      "source": [
        "# **Rverse words in given string in Python**"
      ],
      "metadata": {
        "id": "YZVmuxw9DICg"
      }
    },
    {
      "cell_type": "code",
      "source": [
        "s = list(map(str,input().split()))\n",
        "s1 = []\n",
        "for i in s[::-1]:\n",
        "  s1.append(i)\n",
        "print(s1)\n"
      ],
      "metadata": {
        "colab": {
          "base_uri": "https://localhost:8080/"
        },
        "id": "UeepmLZIDHtW",
        "outputId": "40cb0ec8-c83a-4031-85bc-2984d22f3cea"
      },
      "execution_count": 39,
      "outputs": [
        {
          "output_type": "stream",
          "name": "stdout",
          "text": [
            "jk kj\n",
            "['kj', 'jk']\n"
          ]
        }
      ]
    },
    {
      "cell_type": "code",
      "source": [
        "s = str(input())\n",
        "words = s.split()\n",
        "res = ' '.join(reversed(words))\n",
        "print(res)"
      ],
      "metadata": {
        "colab": {
          "base_uri": "https://localhost:8080/"
        },
        "id": "ov5sZzW8FWyd",
        "outputId": "b8162f5f-3081-4067-b4c4-a752ee4cb950"
      },
      "execution_count": 44,
      "outputs": [
        {
          "output_type": "stream",
          "name": "stdout",
          "text": [
            "india is our country\n",
            "country our is india\n"
          ]
        }
      ]
    },
    {
      "cell_type": "markdown",
      "source": [
        "# **Remove i'th character from string in python**"
      ],
      "metadata": {
        "id": "nX7_UUoMIkbd"
      }
    },
    {
      "cell_type": "code",
      "source": [
        "#method 1\n",
        "s = str(input())\n",
        "i = str(input())\n",
        "s1 = s.replace(i,\"\")\n",
        "print(s1)\n"
      ],
      "metadata": {
        "colab": {
          "base_uri": "https://localhost:8080/"
        },
        "id": "9qgAbPk4JCeG",
        "outputId": "28aa6f45-c660-4f0a-8515-43cd37eb7c7c"
      },
      "execution_count": 50,
      "outputs": [
        {
          "output_type": "stream",
          "name": "stdout",
          "text": [
            "abcde\n",
            "c\n",
            "abde\n"
          ]
        }
      ]
    },
    {
      "cell_type": "code",
      "source": [
        "#method 2\n",
        "s1 = str(input())\n",
        "s2 = \" \"\n",
        "i = str(input())\n",
        "for j in s1:\n",
        "  if i!=j:\n",
        "    s2 = s2+j\n",
        "print(s2)\n"
      ],
      "metadata": {
        "colab": {
          "base_uri": "https://localhost:8080/"
        },
        "id": "CKHCE4K1JYjq",
        "outputId": "12391769-4a80-4f90-de05-9dc5fcb5f135"
      },
      "execution_count": 60,
      "outputs": [
        {
          "output_type": "stream",
          "name": "stdout",
          "text": [
            "bcd\n",
            "c\n",
            " bd\n"
          ]
        }
      ]
    },
    {
      "cell_type": "code",
      "source": [
        "#method 3\n",
        "s = str(input())\n",
        "i = str(input())\n",
        "l = s.index(i)\n",
        "s1 = s[:l] + s[l+1:]\n",
        "print(s1)"
      ],
      "metadata": {
        "colab": {
          "base_uri": "https://localhost:8080/"
        },
        "id": "ZQl5q8dfN4lO",
        "outputId": "550d5822-d520-4279-dee3-dde4a6a7c2d9"
      },
      "execution_count": 64,
      "outputs": [
        {
          "output_type": "stream",
          "name": "stdout",
          "text": [
            "abcde\n",
            "c\n",
            "abde\n"
          ]
        }
      ]
    },
    {
      "cell_type": "markdown",
      "source": [
        "# **Check if a substring present in a string**"
      ],
      "metadata": {
        "id": "SAIWjjZfOwYh"
      }
    },
    {
      "cell_type": "code",
      "source": [
        "s1 = str(input())\n",
        "s2 = str(input())\n",
        "if s2 in s1:\n",
        "  print(\"yes\")\n",
        "else:\n",
        "  print(\"No\")"
      ],
      "metadata": {
        "colab": {
          "base_uri": "https://localhost:8080/"
        },
        "id": "9d2p0D6MMs0f",
        "outputId": "f73bb02a-6c39-4ed2-c0e1-60afdc842151"
      },
      "execution_count": 65,
      "outputs": [
        {
          "output_type": "stream",
          "name": "stdout",
          "text": [
            "abcdefghi\n",
            "efg\n",
            "yes\n"
          ]
        }
      ]
    },
    {
      "cell_type": "markdown",
      "source": [
        "# **Words Frequency in string shorthands**"
      ],
      "metadata": {
        "id": "W64Ie7GPPkZc"
      }
    },
    {
      "cell_type": "code",
      "source": [
        "s1 = str(input())\n",
        "words = s1.split()\n",
        "res = {key:s1.count(key) for key in words}\n",
        "#res = {}\n",
        "#for key in words:\n",
        "  #res = {key:s1.count(key)}\n",
        "print(str(res))\n"
      ],
      "metadata": {
        "colab": {
          "base_uri": "https://localhost:8080/"
        },
        "id": "XDX17nJKPkER",
        "outputId": "f95e7398-a0c2-4bdb-b150-ccd24fecf8f3"
      },
      "execution_count": 77,
      "outputs": [
        {
          "output_type": "stream",
          "name": "stdout",
          "text": [
            "hi hel hi he hi\n",
            "{'hi': 3, 'hel': 1, 'he': 2}\n"
          ]
        }
      ]
    },
    {
      "cell_type": "code",
      "source": [
        "#method 2\n",
        "st = str(input())\n",
        "words1 = st.split()\n",
        "st1 = []\n",
        "for i in words1:\n",
        "  if i not in st1:\n",
        "    st1.append(i)\n",
        "    print(i,\":\",st.count(i))"
      ],
      "metadata": {
        "colab": {
          "base_uri": "https://localhost:8080/"
        },
        "id": "cscjJp5eWDXl",
        "outputId": "87c69d5c-3892-4384-e271-0c04954bfe93"
      },
      "execution_count": 89,
      "outputs": [
        {
          "output_type": "stream",
          "name": "stdout",
          "text": [
            "hi hello hi\n",
            "hi : 2\n",
            "hello : 1\n"
          ]
        }
      ]
    },
    {
      "cell_type": "markdown",
      "source": [
        "# **Find length of string in python**"
      ],
      "metadata": {
        "id": "gCdsfEhEX0Lu"
      }
    },
    {
      "cell_type": "code",
      "source": [
        "#method 1\n",
        "string = str(input())\n",
        "count = 0\n",
        "for i in string:\n",
        "  count +=1\n",
        "print(count)"
      ],
      "metadata": {
        "colab": {
          "base_uri": "https://localhost:8080/"
        },
        "id": "bdZOFuqHXy9M",
        "outputId": "62d74483-766e-4575-b1c4-4592cc96a918"
      },
      "execution_count": 90,
      "outputs": [
        {
          "output_type": "stream",
          "name": "stdout",
          "text": [
            "palak\n",
            "5\n"
          ]
        }
      ]
    },
    {
      "cell_type": "code",
      "source": [
        "#method 2\n",
        "s = str(input())\n",
        "print(len(s))"
      ],
      "metadata": {
        "colab": {
          "base_uri": "https://localhost:8080/"
        },
        "id": "LXC3J1diYG4T",
        "outputId": "4ba91dae-f1dc-4cc5-ce5e-2a599dfcaa34"
      },
      "execution_count": 92,
      "outputs": [
        {
          "output_type": "stream",
          "name": "stdout",
          "text": [
            "abcdef\n",
            "6\n"
          ]
        }
      ]
    },
    {
      "cell_type": "code",
      "source": [
        "#method 3\n",
        "s = str(input())\n",
        "l = 0\n",
        "for i in s:\n",
        "  l = l + s.count(i)\n",
        "print(l)"
      ],
      "metadata": {
        "colab": {
          "base_uri": "https://localhost:8080/"
        },
        "id": "KHBXpK4WYTUX",
        "outputId": "df6899e1-b0d5-4025-9b67-7c0758da1093"
      },
      "execution_count": 97,
      "outputs": [
        {
          "output_type": "stream",
          "name": "stdout",
          "text": [
            "abcd\n",
            "4\n"
          ]
        }
      ]
    },
    {
      "cell_type": "code",
      "source": [
        "#method 4\n",
        "s = str(input())\n",
        "count = 0\n",
        "while s[0:]:\n",
        "  count = count +1\n",
        "print(count)"
      ],
      "metadata": {
        "id": "bQ9dvFdaaTCO"
      },
      "execution_count": null,
      "outputs": []
    },
    {
      "cell_type": "markdown",
      "source": [
        "# **Print even length words in a string**"
      ],
      "metadata": {
        "id": "ndmhy5K6Z0Os"
      }
    },
    {
      "cell_type": "code",
      "source": [
        "s = str(input())\n",
        "words = s.split()\n",
        "for i in words:\n",
        "  if len(i)%2==0:\n",
        "    print(i)"
      ],
      "metadata": {
        "colab": {
          "base_uri": "https://localhost:8080/"
        },
        "id": "C39zBHeyZztO",
        "outputId": "c2930d1c-c7ad-4e37-b462-a7eb5f7fa470"
      },
      "execution_count": 101,
      "outputs": [
        {
          "output_type": "stream",
          "name": "stdout",
          "text": [
            "india is our country\n",
            "is\n"
          ]
        }
      ]
    },
    {
      "cell_type": "markdown",
      "source": [
        "# **Accept the strings which contain all vowels**"
      ],
      "metadata": {
        "id": "VU8njj6VaQPA"
      }
    },
    {
      "cell_type": "code",
      "source": [
        "s1 = str(input())\n",
        "s1 = s1.lower()\n",
        "l = set('aeiou')\n",
        "s2 = set({})\n",
        "\n",
        "for i in s1:\n",
        "  if i in l:\n",
        "    s2.add(i)\n",
        "  else:\n",
        "    pass\n",
        "\n",
        "if len(s2) == len(l):\n",
        "  print(\"Accepted\")\n",
        "else:\n",
        "  print(\"Not Accepted\")\n",
        "    "
      ],
      "metadata": {
        "colab": {
          "base_uri": "https://localhost:8080/"
        },
        "id": "HTFqX6PoaP70",
        "outputId": "1f42409e-b586-4d66-95f2-f6125c38f79d"
      },
      "execution_count": 110,
      "outputs": [
        {
          "output_type": "stream",
          "name": "stdout",
          "text": [
            "abcdeiough\n",
            "Accepted\n"
          ]
        }
      ]
    },
    {
      "cell_type": "code",
      "source": [
        ""
      ],
      "metadata": {
        "id": "J-dgcf-oehsf"
      },
      "execution_count": null,
      "outputs": []
    },
    {
      "cell_type": "markdown",
      "source": [
        "# **Convert Snake case to Pascal Case**"
      ],
      "metadata": {
        "id": "xfA7brKOeivF"
      }
    },
    {
      "cell_type": "code",
      "source": [
        "string1 = str(input())\n",
        "string2 = \"\"\n",
        "for ch in string1:\n",
        "  if ch.islower():\n",
        "    string2 = string2 + ch.upper()\n",
        "  else:\n",
        "    string2 = string2 + ch\n",
        "print(string2)\n"
      ],
      "metadata": {
        "colab": {
          "base_uri": "https://localhost:8080/"
        },
        "id": "iHQ_Zqule7NV",
        "outputId": "7ebf629d-c4c4-4156-c63f-d7b69f067268"
      },
      "execution_count": 114,
      "outputs": [
        {
          "output_type": "stream",
          "name": "stdout",
          "text": [
            "PaLaK\n",
            "PALAK\n"
          ]
        }
      ]
    },
    {
      "cell_type": "code",
      "source": [
        "string1 = str(input())\n",
        "#string2 = \"\"\n",
        "for ch in string1:\n",
        "  if ch.islower():\n",
        "    string1.replace(ch,ch.upper())\n",
        "print(string1)"
      ],
      "metadata": {
        "colab": {
          "base_uri": "https://localhost:8080/"
        },
        "id": "ung9XQUNf-V9",
        "outputId": "caa7d4e1-ecad-4ff0-aa7e-c64fa6a3cb97"
      },
      "execution_count": 118,
      "outputs": [
        {
          "output_type": "stream",
          "name": "stdout",
          "text": [
            "Palak\n",
            "Palak\n"
          ]
        }
      ]
    }
  ]
}