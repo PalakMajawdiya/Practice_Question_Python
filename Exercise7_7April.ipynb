{
  "nbformat": 4,
  "nbformat_minor": 0,
  "metadata": {
    "colab": {
      "name": "Exercise7_7April.ipynb",
      "provenance": []
    },
    "kernelspec": {
      "name": "python3",
      "display_name": "Python 3"
    },
    "language_info": {
      "name": "python"
    }
  },
  "cells": [
    {
      "cell_type": "markdown",
      "source": [
        "# **Count Number of matching characters in pair of string**"
      ],
      "metadata": {
        "id": "pcDrcL4pzDyZ"
      }
    },
    {
      "cell_type": "code",
      "execution_count": 64,
      "metadata": {
        "id": "VxmJLQlmy1Xm",
        "colab": {
          "base_uri": "https://localhost:8080/"
        },
        "outputId": "2e802d44-0648-4ea0-bcb1-499681cfe59a"
      },
      "outputs": [
        {
          "output_type": "stream",
          "name": "stdout",
          "text": [
            "hellobro\n",
            "brohi\n",
            "4\n"
          ]
        }
      ],
      "source": [
        "st1 = input()\n",
        "st2 = input()\n",
        "l = []\n",
        "for i in st1:\n",
        "  if i in st2 and i not in l:\n",
        "    l.append(i)\n",
        "print(len(l))"
      ]
    },
    {
      "cell_type": "markdown",
      "source": [
        "# **Remove all duplicates from a given string**"
      ],
      "metadata": {
        "id": "pHQEo6VPzSBw"
      }
    },
    {
      "cell_type": "code",
      "source": [
        "s = str(input())\n",
        "s1 = \"\"\n",
        "for i in s:\n",
        "  if i not in s1:\n",
        "    s1 = s1+i\n",
        "print(s1)"
      ],
      "metadata": {
        "colab": {
          "base_uri": "https://localhost:8080/"
        },
        "id": "JrD3tmSmzZux",
        "outputId": "4976d933-2f64-489a-c65c-22e686e5e024"
      },
      "execution_count": null,
      "outputs": [
        {
          "output_type": "stream",
          "name": "stdout",
          "text": [
            "aljkaajujiaa\n",
            "aljkui\n"
          ]
        }
      ]
    },
    {
      "cell_type": "markdown",
      "source": [
        "# **Least Frequent character in string**"
      ],
      "metadata": {
        "id": "n8c3FwfrzkM8"
      }
    },
    {
      "cell_type": "code",
      "source": [
        "sl = input()\n",
        "min = \"\"\n",
        "c1 = sl.count(sl[0])\n",
        "for i in sl:\n",
        "  if sl.count(i) < c1:\n",
        "    c1 = sl.count(i)\n",
        "    min = i\n",
        "  else:\n",
        "    continue\n",
        "\n",
        "print(min)"
      ],
      "metadata": {
        "id": "JYmZ8PbCzpEB",
        "colab": {
          "base_uri": "https://localhost:8080/"
        },
        "outputId": "a07e4121-1cad-4908-8704-33ab666b3adc"
      },
      "execution_count": 42,
      "outputs": [
        {
          "output_type": "stream",
          "name": "stdout",
          "text": [
            "ppkki\n",
            "i\n"
          ]
        }
      ]
    },
    {
      "cell_type": "code",
      "source": [
        "from collections import Counter\n",
        "st = input()\n",
        "res = Counter(st)\n",
        "print(res)"
      ],
      "metadata": {
        "colab": {
          "base_uri": "https://localhost:8080/"
        },
        "id": "RRsbW_nEcTX6",
        "outputId": "51b1ffe4-be48-4729-c208-c26b83ce67e1"
      },
      "execution_count": 45,
      "outputs": [
        {
          "output_type": "stream",
          "name": "stdout",
          "text": [
            "palak\n",
            "Counter({'a': 2, 'p': 1, 'l': 1, 'k': 1})\n"
          ]
        }
      ]
    },
    {
      "cell_type": "markdown",
      "source": [
        "# **Maximum frequency character in string**"
      ],
      "metadata": {
        "id": "42RnKlTDzs67"
      }
    },
    {
      "cell_type": "code",
      "source": [
        "sf = input()\n",
        "max = \"\"\n",
        "c = sf.count(sf[0])\n",
        "for i in sf:\n",
        "  if sf.count(i) > c:\n",
        "    c = sf.count(i)\n",
        "    max = i\n",
        "\n",
        "print(max)"
      ],
      "metadata": {
        "id": "UZdd3Tf8zy0j",
        "colab": {
          "base_uri": "https://localhost:8080/"
        },
        "outputId": "97fc504e-ab29-42a4-aa0a-27279570941c"
      },
      "execution_count": 35,
      "outputs": [
        {
          "output_type": "stream",
          "name": "stdout",
          "text": [
            "palak\n",
            "a\n"
          ]
        }
      ]
    },
    {
      "cell_type": "code",
      "source": [
        "sf = input()\n",
        "l = []\n",
        "for i in sf:\n",
        "  l.append(sf.count(i))"
      ],
      "metadata": {
        "colab": {
          "base_uri": "https://localhost:8080/"
        },
        "id": "L-Sj0itYZjNu",
        "outputId": "7b7d7d1f-5c5c-4c85-e001-ea5522154412"
      },
      "execution_count": 39,
      "outputs": [
        {
          "output_type": "stream",
          "name": "stdout",
          "text": [
            "palak\n",
            "[1, 2, 1, 2, 1]\n"
          ]
        }
      ]
    },
    {
      "cell_type": "markdown",
      "source": [
        "# **Check if a string contain any special character**"
      ],
      "metadata": {
        "id": "hbbewt7YzzSN"
      }
    },
    {
      "cell_type": "code",
      "source": [
        "def check_string(s1,words):\n",
        "  for i in s1:\n",
        "    if i not in  words:\n",
        "      continue\n",
        "    else:\n",
        "      return False\n",
        "\n",
        "s1 = str(input())\n",
        "words = \"!@#$%^&*()<>?/:;{}[]+=-_.\"\n",
        "res = check_string(s1,words)\n",
        "if res == False:\n",
        "  print(\"Rejected\")\n",
        "else:\n",
        "  print(\"Accepted\")"
      ],
      "metadata": {
        "id": "uwVOoNdlz5ot",
        "colab": {
          "base_uri": "https://localhost:8080/"
        },
        "outputId": "84f3b5c3-83dd-44da-89da-78215d281cc9"
      },
      "execution_count": 25,
      "outputs": [
        {
          "output_type": "stream",
          "name": "stdout",
          "text": [
            "helloola.jk\n",
            "Rejected\n"
          ]
        }
      ]
    },
    {
      "cell_type": "markdown",
      "source": [
        "# **Generate random string untill a given string is generated**"
      ],
      "metadata": {
        "id": "3z5yY7P9z6Ij"
      }
    },
    {
      "cell_type": "code",
      "source": [
        "import random\n",
        "ss2 = input()\n",
        "\n"
      ],
      "metadata": {
        "id": "KEciSaXC0Bf0"
      },
      "execution_count": null,
      "outputs": []
    },
    {
      "cell_type": "markdown",
      "source": [
        "# **Find words which are greater than given length k**"
      ],
      "metadata": {
        "id": "S9wVGdph0B-D"
      }
    },
    {
      "cell_type": "code",
      "source": [
        "sw = str(input())\n",
        "k = int(input())\n",
        "words = sw.split()\n",
        "for i in words:\n",
        "  if len(i) > k:\n",
        "    print(i,end = \" \")"
      ],
      "metadata": {
        "colab": {
          "base_uri": "https://localhost:8080/"
        },
        "id": "UMtMhvA90JdY",
        "outputId": "ad90dcb5-f5be-47fb-b495-86d563ce4741"
      },
      "execution_count": null,
      "outputs": [
        {
          "output_type": "stream",
          "name": "stdout",
          "text": [
            "hello this is me how are you bro\n",
            "3\n",
            "hello this "
          ]
        }
      ]
    },
    {
      "cell_type": "markdown",
      "source": [
        "# **Remove i'th character from a string**"
      ],
      "metadata": {
        "id": "oL64jjbN0KAw"
      }
    },
    {
      "cell_type": "code",
      "source": [
        "si = input()\n",
        "k = int(input())\n",
        "si = si.replace(si[k],\"\")\n",
        "print(si)"
      ],
      "metadata": {
        "colab": {
          "base_uri": "https://localhost:8080/"
        },
        "id": "Mxow5aeL0Pe8",
        "outputId": "4d0f808b-7a2d-4b09-a909-90259aac4387"
      },
      "execution_count": 38,
      "outputs": [
        {
          "output_type": "stream",
          "name": "stdout",
          "text": [
            "abcd\n",
            "1\n",
            "acd\n"
          ]
        }
      ]
    },
    {
      "cell_type": "markdown",
      "source": [
        "# **Split and Join a string**"
      ],
      "metadata": {
        "id": "b4Oekk7M0P1H"
      }
    },
    {
      "cell_type": "code",
      "source": [
        "ss = input()\n",
        "words = ss.split()\n",
        "print(words)"
      ],
      "metadata": {
        "id": "mAKveZ070U0e",
        "colab": {
          "base_uri": "https://localhost:8080/"
        },
        "outputId": "f86dfa68-ccce-42b9-89b9-9b7e604403d7"
      },
      "execution_count": 47,
      "outputs": [
        {
          "output_type": "stream",
          "name": "stdout",
          "text": [
            "hi hello bro\n",
            "['hi', 'hello', 'bro']\n"
          ]
        }
      ]
    },
    {
      "cell_type": "code",
      "source": [
        "print(' '.join(words))"
      ],
      "metadata": {
        "colab": {
          "base_uri": "https://localhost:8080/"
        },
        "id": "qvLdo1vldpR6",
        "outputId": "810f349a-1ab1-4be1-c91c-626fb5d286d6"
      },
      "execution_count": 48,
      "outputs": [
        {
          "output_type": "stream",
          "name": "stdout",
          "text": [
            "hi hello bro\n"
          ]
        }
      ]
    },
    {
      "cell_type": "markdown",
      "source": [
        "# **Check if given string is binary string or not**"
      ],
      "metadata": {
        "id": "KFl3ts2S0VNP"
      }
    },
    {
      "cell_type": "code",
      "source": [
        "def check_binary(sb,b):\n",
        "  for i in sb:\n",
        "    if i in b:\n",
        "      continue\n",
        "    else:\n",
        "      return False\n",
        "\n",
        "sb = input()\n",
        "b = '01'\n",
        "r = check_binary(sb,b)\n",
        "if r==False:\n",
        "  print(\"No\")\n",
        "else:\n",
        "  print(\"Yes\")\n"
      ],
      "metadata": {
        "id": "AoIBVkyU0bd4",
        "colab": {
          "base_uri": "https://localhost:8080/"
        },
        "outputId": "095a9fb4-4bce-44bd-fc42-8334e40b695a"
      },
      "execution_count": 55,
      "outputs": [
        {
          "output_type": "stream",
          "name": "stdout",
          "text": [
            "palak0101\n",
            "No\n"
          ]
        }
      ]
    }
  ]
}