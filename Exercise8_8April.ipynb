{
  "nbformat": 4,
  "nbformat_minor": 0,
  "metadata": {
    "colab": {
      "name": "Exercise8_8April.ipynb",
      "provenance": []
    },
    "kernelspec": {
      "name": "python3",
      "display_name": "Python 3"
    },
    "language_info": {
      "name": "python"
    }
  },
  "cells": [
    {
      "cell_type": "markdown",
      "source": [
        "# **Find uncommon words from two strings**"
      ],
      "metadata": {
        "id": "l3XLA2YL_egz"
      }
    },
    {
      "cell_type": "code",
      "execution_count": null,
      "metadata": {
        "colab": {
          "base_uri": "https://localhost:8080/"
        },
        "id": "H0StYuIT_Sbq",
        "outputId": "464aec94-9eaf-458c-d752-15d20d75f018"
      },
      "outputs": [
        {
          "output_type": "stream",
          "name": "stdout",
          "text": [
            "hello bro\n",
            "bro hi\n",
            "['hello', 'hi']\n"
          ]
        }
      ],
      "source": [
        "st1 = input().split()\n",
        "st2 = input().split()\n",
        "l = []\n",
        "for i in st1:\n",
        "  if i not in st2:\n",
        "    l.append(i)\n",
        "for j in st2:\n",
        "  if j not in st1 and j not in l:\n",
        "    l.append(j)\n",
        "print(l)"
      ]
    },
    {
      "cell_type": "markdown",
      "source": [
        "# **Replace duplicate occurrences in string**"
      ],
      "metadata": {
        "id": "e8ZcwtSfAr5C"
      }
    },
    {
      "cell_type": "code",
      "source": [
        "sto = \"Hello bro this is me this is nice to me \"\n",
        "words = sto.split()\n",
        "l1 = []\n",
        "rep = {'this':'it','me':'myself'}\n",
        "\n",
        "for i in words:\n",
        "  if i in rep:\n",
        "    l1.append(rep[i])\n",
        "  else:\n",
        "    l1.append(i)\n",
        "\n",
        "print(' '.join(l1))\n",
        "\n",
        "\n",
        "\n"
      ],
      "metadata": {
        "id": "AZ9n3ZklA37F",
        "colab": {
          "base_uri": "https://localhost:8080/"
        },
        "outputId": "ca2887d5-addf-4acd-e827-9b951d4988e4"
      },
      "execution_count": 2,
      "outputs": [
        {
          "output_type": "stream",
          "name": "stdout",
          "text": [
            "Hello bro it is myself it is nice to myself\n"
          ]
        }
      ]
    },
    {
      "cell_type": "markdown",
      "source": [
        "#**Replace Multiple words with k**\n"
      ],
      "metadata": {
        "id": "sxK_436LBDS0"
      }
    },
    {
      "cell_type": "code",
      "source": [
        "std = input().split()\n",
        "l1 = []\n",
        "words = input().split()\n",
        "rep = input()\n",
        "\n",
        "for i in std:\n",
        "  if i in words and i not in l1 :\n",
        "    l1.append(rep)\n",
        "  else:\n",
        "    l1.append(i)\n",
        "\n",
        "print(' '.join(l1))\n",
        "  \n",
        "\n"
      ],
      "metadata": {
        "colab": {
          "base_uri": "https://localhost:8080/"
        },
        "id": "cab8hbLWBIl2",
        "outputId": "1af6d672-756e-44fb-f524-80bc97be8e8e"
      },
      "execution_count": null,
      "outputs": [
        {
          "output_type": "stream",
          "name": "stdout",
          "text": [
            "this is good me \n",
            "is me \n",
            "us\n",
            "this us good us\n"
          ]
        }
      ]
    },
    {
      "cell_type": "code",
      "source": [
        "st = input()\n",
        "w = input().split()\n",
        "repl = input()\n",
        "\n",
        "res = ' '.join([repl if i in w else i for i in st.split()])\n",
        "print(str(res))"
      ],
      "metadata": {
        "colab": {
          "base_uri": "https://localhost:8080/"
        },
        "id": "FKGB3h75epUF",
        "outputId": "74bd3f38-04c5-472d-dc0b-0408aac91a41"
      },
      "execution_count": null,
      "outputs": [
        {
          "output_type": "stream",
          "name": "stdout",
          "text": [
            "this is good me \n",
            "is me \n",
            "us\n",
            "this us good us\n"
          ]
        }
      ]
    },
    {
      "cell_type": "markdown",
      "source": [
        "# **String Slicing to rotate a string**"
      ],
      "metadata": {
        "id": "Bfm1QufwBYaC"
      }
    },
    {
      "cell_type": "code",
      "source": [
        "sts = input()\n",
        "k = int(input())\n",
        "\n",
        "lr = sts[k:] + sts[:k]\n",
        "rr = sts[len(sts)-k:] + sts[0:len(sts)-k]\n",
        "print(lr)\n",
        "print(rr)"
      ],
      "metadata": {
        "id": "sVBFVubVBhbZ",
        "colab": {
          "base_uri": "https://localhost:8080/"
        },
        "outputId": "9a9a7247-c6bb-4f7c-bdec-cb929dec9a60"
      },
      "execution_count": null,
      "outputs": [
        {
          "output_type": "stream",
          "name": "stdout",
          "text": [
            "abcdefghij\n",
            "3\n",
            "defghijabc\n",
            "hijabcdefg\n"
          ]
        }
      ]
    },
    {
      "cell_type": "markdown",
      "source": [
        "# **String slicing  to check if a string can become empty by recursive deletion**"
      ],
      "metadata": {
        "id": "u9n_bEJ4Bh1p"
      }
    },
    {
      "cell_type": "code",
      "source": [
        "def string_check(st,m):\n",
        "  if m in st and len(st) !=0:\n",
        "    st.replace(m,' ')\n",
        "    string_check(st,m)\n",
        "  else:\n",
        "    if len(st) == 0:\n",
        "      print(\"yes\")\n",
        "    else:\n",
        "      print(\"No\")\n",
        "\n",
        "  \n",
        "\n",
        "st = input()\n",
        "m = input()\n",
        "string_check(st,m)"
      ],
      "metadata": {
        "id": "uD_TYcnYBqcK",
        "colab": {
          "base_uri": "https://localhost:8080/",
          "height": 416
        },
        "outputId": "f28d22d1-ae75-4bae-9638-3e5795dc644e"
      },
      "execution_count": 12,
      "outputs": [
        {
          "name": "stdout",
          "output_type": "stream",
          "text": [
            "geeksgeeks\n",
            "geeks\n"
          ]
        },
        {
          "output_type": "error",
          "ename": "RecursionError",
          "evalue": "ignored",
          "traceback": [
            "\u001b[0;31m---------------------------------------------------------------------------\u001b[0m",
            "\u001b[0;31mRecursionError\u001b[0m                            Traceback (most recent call last)",
            "\u001b[0;32m<ipython-input-12-36f971b74d7c>\u001b[0m in \u001b[0;36m<module>\u001b[0;34m()\u001b[0m\n\u001b[1;32m     13\u001b[0m \u001b[0mst\u001b[0m \u001b[0;34m=\u001b[0m \u001b[0minput\u001b[0m\u001b[0;34m(\u001b[0m\u001b[0;34m)\u001b[0m\u001b[0;34m\u001b[0m\u001b[0;34m\u001b[0m\u001b[0m\n\u001b[1;32m     14\u001b[0m \u001b[0mm\u001b[0m \u001b[0;34m=\u001b[0m \u001b[0minput\u001b[0m\u001b[0;34m(\u001b[0m\u001b[0;34m)\u001b[0m\u001b[0;34m\u001b[0m\u001b[0;34m\u001b[0m\u001b[0m\n\u001b[0;32m---> 15\u001b[0;31m \u001b[0mstring_check\u001b[0m\u001b[0;34m(\u001b[0m\u001b[0mst\u001b[0m\u001b[0;34m,\u001b[0m\u001b[0mm\u001b[0m\u001b[0;34m)\u001b[0m\u001b[0;34m\u001b[0m\u001b[0;34m\u001b[0m\u001b[0m\n\u001b[0m",
            "\u001b[0;32m<ipython-input-12-36f971b74d7c>\u001b[0m in \u001b[0;36mstring_check\u001b[0;34m(st, m)\u001b[0m\n\u001b[1;32m      2\u001b[0m   \u001b[0;32mif\u001b[0m \u001b[0mm\u001b[0m \u001b[0;32min\u001b[0m \u001b[0mst\u001b[0m \u001b[0;32mand\u001b[0m \u001b[0mlen\u001b[0m\u001b[0;34m(\u001b[0m\u001b[0mst\u001b[0m\u001b[0;34m)\u001b[0m \u001b[0;34m!=\u001b[0m\u001b[0;36m0\u001b[0m\u001b[0;34m:\u001b[0m\u001b[0;34m\u001b[0m\u001b[0;34m\u001b[0m\u001b[0m\n\u001b[1;32m      3\u001b[0m     \u001b[0mst\u001b[0m\u001b[0;34m.\u001b[0m\u001b[0mreplace\u001b[0m\u001b[0;34m(\u001b[0m\u001b[0mm\u001b[0m\u001b[0;34m,\u001b[0m\u001b[0;34m' '\u001b[0m\u001b[0;34m)\u001b[0m\u001b[0;34m\u001b[0m\u001b[0;34m\u001b[0m\u001b[0m\n\u001b[0;32m----> 4\u001b[0;31m     \u001b[0mstring_check\u001b[0m\u001b[0;34m(\u001b[0m\u001b[0mst\u001b[0m\u001b[0;34m,\u001b[0m\u001b[0mm\u001b[0m\u001b[0;34m)\u001b[0m\u001b[0;34m\u001b[0m\u001b[0;34m\u001b[0m\u001b[0m\n\u001b[0m\u001b[1;32m      5\u001b[0m   \u001b[0;32melse\u001b[0m\u001b[0;34m:\u001b[0m\u001b[0;34m\u001b[0m\u001b[0;34m\u001b[0m\u001b[0m\n\u001b[1;32m      6\u001b[0m     \u001b[0;32mif\u001b[0m \u001b[0mlen\u001b[0m\u001b[0;34m(\u001b[0m\u001b[0mst\u001b[0m\u001b[0;34m)\u001b[0m \u001b[0;34m==\u001b[0m \u001b[0;36m0\u001b[0m\u001b[0;34m:\u001b[0m\u001b[0;34m\u001b[0m\u001b[0;34m\u001b[0m\u001b[0m\n",
            "... last 1 frames repeated, from the frame below ...\n",
            "\u001b[0;32m<ipython-input-12-36f971b74d7c>\u001b[0m in \u001b[0;36mstring_check\u001b[0;34m(st, m)\u001b[0m\n\u001b[1;32m      2\u001b[0m   \u001b[0;32mif\u001b[0m \u001b[0mm\u001b[0m \u001b[0;32min\u001b[0m \u001b[0mst\u001b[0m \u001b[0;32mand\u001b[0m \u001b[0mlen\u001b[0m\u001b[0;34m(\u001b[0m\u001b[0mst\u001b[0m\u001b[0;34m)\u001b[0m \u001b[0;34m!=\u001b[0m\u001b[0;36m0\u001b[0m\u001b[0;34m:\u001b[0m\u001b[0;34m\u001b[0m\u001b[0;34m\u001b[0m\u001b[0m\n\u001b[1;32m      3\u001b[0m     \u001b[0mst\u001b[0m\u001b[0;34m.\u001b[0m\u001b[0mreplace\u001b[0m\u001b[0;34m(\u001b[0m\u001b[0mm\u001b[0m\u001b[0;34m,\u001b[0m\u001b[0;34m' '\u001b[0m\u001b[0;34m)\u001b[0m\u001b[0;34m\u001b[0m\u001b[0;34m\u001b[0m\u001b[0m\n\u001b[0;32m----> 4\u001b[0;31m     \u001b[0mstring_check\u001b[0m\u001b[0;34m(\u001b[0m\u001b[0mst\u001b[0m\u001b[0;34m,\u001b[0m\u001b[0mm\u001b[0m\u001b[0;34m)\u001b[0m\u001b[0;34m\u001b[0m\u001b[0;34m\u001b[0m\u001b[0m\n\u001b[0m\u001b[1;32m      5\u001b[0m   \u001b[0;32melse\u001b[0m\u001b[0;34m:\u001b[0m\u001b[0;34m\u001b[0m\u001b[0;34m\u001b[0m\u001b[0m\n\u001b[1;32m      6\u001b[0m     \u001b[0;32mif\u001b[0m \u001b[0mlen\u001b[0m\u001b[0;34m(\u001b[0m\u001b[0mst\u001b[0m\u001b[0;34m)\u001b[0m \u001b[0;34m==\u001b[0m \u001b[0;36m0\u001b[0m\u001b[0;34m:\u001b[0m\u001b[0;34m\u001b[0m\u001b[0;34m\u001b[0m\u001b[0m\n",
            "\u001b[0;31mRecursionError\u001b[0m: maximum recursion depth exceeded while calling a Python object"
          ]
        }
      ]
    },
    {
      "cell_type": "markdown",
      "source": [
        "# **Find duplicate character in string using counter**"
      ],
      "metadata": {
        "id": "YLD19iE4BrEB"
      }
    },
    {
      "cell_type": "code",
      "source": [
        "scd = input()\n",
        "l = []\n",
        "l2 = []\n",
        "for i in scd:\n",
        "  if i not in l:\n",
        "    l.append(i)\n",
        "  else:\n",
        "    l2.append(i)\n",
        "\n",
        "print(''.join(l2))\n",
        "  \n"
      ],
      "metadata": {
        "id": "3ic7yHKNBx8O",
        "colab": {
          "base_uri": "https://localhost:8080/"
        },
        "outputId": "f2cc5526-aae3-424c-d807-34f5a714b5fb"
      },
      "execution_count": null,
      "outputs": [
        {
          "output_type": "stream",
          "name": "stdout",
          "text": [
            "Palak\n",
            "a\n"
          ]
        }
      ]
    },
    {
      "cell_type": "code",
      "source": [
        "from collections import Counter\n",
        "scc = input()\n",
        "l = Counter(scc)\n",
        "for i in l:\n",
        "  if l[i] > 1:\n",
        "    print(i)"
      ],
      "metadata": {
        "colab": {
          "base_uri": "https://localhost:8080/"
        },
        "id": "hiZmrUvkosQ1",
        "outputId": "f3d8aae8-4068-486c-9609-56fefd64a745"
      },
      "execution_count": null,
      "outputs": [
        {
          "output_type": "stream",
          "name": "stdout",
          "text": [
            "brottther\n",
            "r\n",
            "t\n"
          ]
        }
      ]
    },
    {
      "cell_type": "markdown",
      "source": [
        "# **Replace all occurrences of substring in string**"
      ],
      "metadata": {
        "id": "NvjBiq0HByhJ"
      }
    },
    {
      "cell_type": "code",
      "source": [
        "ss = input().split()\n",
        "ss1 = input()\n",
        "ss2 = input()\n",
        "l = []\n",
        "for i in ss:\n",
        "  if i in ss1:\n",
        "    l.append(ss2)\n",
        "  else:\n",
        "    l.append(i)\n",
        "  \n",
        "print(' '.join(l))"
      ],
      "metadata": {
        "id": "TluDQeXYB6FI",
        "colab": {
          "base_uri": "https://localhost:8080/"
        },
        "outputId": "3d28f172-3536-4c2a-8e47-c9056c82f8a2"
      },
      "execution_count": null,
      "outputs": [
        {
          "output_type": "stream",
          "name": "stdout",
          "text": [
            "hello hi bro hello hi\n",
            "hello\n",
            "jklm\n",
            "jklm hi bro jklm hi\n"
          ]
        }
      ]
    },
    {
      "cell_type": "code",
      "source": [
        "sm = input()\n",
        "sm1 = input()\n",
        "sm2 = input()\n",
        "t = str.maketrans(sm1,sm2)\n",
        "sm = sm.translate(t)\n",
        "print(str(sm))\n"
      ],
      "metadata": {
        "colab": {
          "base_uri": "https://localhost:8080/"
        },
        "id": "mV8hfPJPtfMQ",
        "outputId": "1a15ae0d-735c-422f-f36f-c3b3706e4e08"
      },
      "execution_count": null,
      "outputs": [
        {
          "output_type": "stream",
          "name": "stdout",
          "text": [
            "hello bro hi hello hi\n",
            "hi\n",
            "jk\n",
            "jello bro jk jello jk\n"
          ]
        }
      ]
    }
  ]
}