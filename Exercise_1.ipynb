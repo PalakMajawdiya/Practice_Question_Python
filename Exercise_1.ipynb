{
  "nbformat": 4,
  "nbformat_minor": 0,
  "metadata": {
    "colab": {
      "name": "Exercise_1.ipynb",
      "provenance": []
    },
    "kernelspec": {
      "name": "python3",
      "display_name": "Python 3"
    },
    "language_info": {
      "name": "python"
    }
  },
  "cells": [
    {
      "cell_type": "markdown",
      "source": [
        "# **Program to Add 2 Numbers**"
      ],
      "metadata": {
        "id": "Ytt-gvhEZ_J4"
      }
    },
    {
      "cell_type": "code",
      "execution_count": null,
      "metadata": {
        "colab": {
          "base_uri": "https://localhost:8080/"
        },
        "id": "0XRNSNxiZ-Dc",
        "outputId": "cd929c58-a410-4c61-aa79-1757299e3c18"
      },
      "outputs": [
        {
          "output_type": "stream",
          "name": "stdout",
          "text": [
            "Enter first number: 12\n",
            "Enter second number: 12\n",
            "Sum of two number is:  24\n"
          ]
        }
      ],
      "source": [
        "a = int(input(\"Enter first number: \"))\n",
        "b = int(input(\"Enter second number: \"))\n",
        "sum = a + b\n",
        "print(\"Sum of two number is: \", sum)"
      ]
    },
    {
      "cell_type": "markdown",
      "source": [
        "# **Maximum of two numbers in Python**"
      ],
      "metadata": {
        "id": "xLsRURvtaq4Y"
      }
    },
    {
      "cell_type": "code",
      "source": [
        "a = int(input(\"Enter 1st no.: \"))\n",
        "b = int(input(\"Enter 2nd no.: \"))\n",
        "res = max(a,b)\n",
        "print(\"Maximum of 2 no. is: \", res)\n"
      ],
      "metadata": {
        "colab": {
          "base_uri": "https://localhost:8080/"
        },
        "id": "_vp_z7jJaqTZ",
        "outputId": "5769b42d-9a75-4056-c8a7-4e4588946c07"
      },
      "execution_count": null,
      "outputs": [
        {
          "output_type": "stream",
          "name": "stdout",
          "text": [
            "Enter 1st no.: 24\n",
            "Enter 2nd no.: 12\n",
            "Maximum of 2 no. is:  24\n"
          ]
        }
      ]
    },
    {
      "cell_type": "markdown",
      "source": [
        "# **Program for factorial of no.**"
      ],
      "metadata": {
        "id": "2CT7mqZ5fm8c"
      }
    },
    {
      "cell_type": "code",
      "source": [
        "n = int(input(\"Enter no.: \"))\n",
        "def fact(n):\n",
        "  if n==0 or n==1:\n",
        "    return 1;\n",
        "  else:\n",
        "    return n*fact(n-1)\n",
        "\n",
        "fact(n)"
      ],
      "metadata": {
        "colab": {
          "base_uri": "https://localhost:8080/"
        },
        "id": "eV-3DNIKfmLw",
        "outputId": "b3a6fa37-bb19-4ed3-ac35-6e98d0b19c7d"
      },
      "execution_count": null,
      "outputs": [
        {
          "name": "stdout",
          "output_type": "stream",
          "text": [
            "Enter no.: 4\n"
          ]
        },
        {
          "output_type": "execute_result",
          "data": {
            "text/plain": [
              "24"
            ]
          },
          "metadata": {},
          "execution_count": 9
        }
      ]
    },
    {
      "cell_type": "markdown",
      "source": [
        "# **Program for Simple Interest**"
      ],
      "metadata": {
        "id": "JjFGfbXj_ipE"
      }
    },
    {
      "cell_type": "code",
      "source": [
        "P = float(input(\"Enter amount: \"))\n",
        "r = float(input(\"Enter interest rate: \"))\n",
        "t = int(input(\"Enter time period: \"))\n",
        "\n",
        "si = (P*r*t)/100\n",
        "print(\"Simple Interest is: \",si)"
      ],
      "metadata": {
        "colab": {
          "base_uri": "https://localhost:8080/"
        },
        "id": "Luz5SR4e_RfU",
        "outputId": "549a18e7-b363-48d1-b7de-93dbdcaa9c1e"
      },
      "execution_count": null,
      "outputs": [
        {
          "output_type": "stream",
          "name": "stdout",
          "text": [
            "Enter amount: 2000\n",
            "Enter interest rate: 10\n",
            "Enter time period: 1\n",
            "Simple Interest is:  200.0\n"
          ]
        }
      ]
    },
    {
      "cell_type": "markdown",
      "source": [
        "# **Program for Compound Interest**"
      ],
      "metadata": {
        "id": "FB1isuUFBMlb"
      }
    },
    {
      "cell_type": "code",
      "source": [
        "P = float(input(\"Enter amount: \"))\n",
        "r = float(input(\"Enter interest rate: \"))\n",
        "t = int(input(\"Enter time period: \"))\n",
        "\n",
        "a = P*((1+(r/100))**t)\n",
        "ci = a - P\n",
        "print(\"compound interest is: \",ci)"
      ],
      "metadata": {
        "colab": {
          "base_uri": "https://localhost:8080/"
        },
        "id": "9pvZ7XQKBMMU",
        "outputId": "65140cae-3208-4fc1-821e-e850f97115b1"
      },
      "execution_count": null,
      "outputs": [
        {
          "output_type": "stream",
          "name": "stdout",
          "text": [
            "Enter amount: 1200\n",
            "Enter interest rate: 5.4\n",
            "Enter time period: 2\n",
            "Enter no. of times compounded annually: 1\n",
            "compound interest is:  133.0992000000001\n"
          ]
        }
      ]
    },
    {
      "cell_type": "markdown",
      "source": [
        "# **Program to check for Armstrong number ***"
      ],
      "metadata": {
        "id": "CkW9xZzsF1p7"
      }
    },
    {
      "cell_type": "code",
      "source": [
        "import math\n",
        "n = int(input(\"Enter number: \"))\n",
        "s = 0\n",
        "for i in str(n):\n",
        "  s = s + pow(int(i),3)\n",
        "\n",
        "if s==n:\n",
        "  print(\"Yeahh!! Given number is armstrong no \")\n",
        "else:\n",
        "  print(\"Given number is not armstrong number \")\n"
      ],
      "metadata": {
        "colab": {
          "base_uri": "https://localhost:8080/"
        },
        "id": "qcxQAUfpD50O",
        "outputId": "47b8c765-bb35-40f4-d923-eb4b3be21c57"
      },
      "execution_count": null,
      "outputs": [
        {
          "output_type": "stream",
          "name": "stdout",
          "text": [
            "Enter number: 371\n",
            "Yeahh!! Given number is armstrong no \n"
          ]
        }
      ]
    },
    {
      "cell_type": "markdown",
      "source": [
        "# **Program to find area of circle**"
      ],
      "metadata": {
        "id": "ixd1n8JkNkzL"
      }
    },
    {
      "cell_type": "code",
      "source": [
        "r = float(input(\"Enter radius: \"))\n",
        "pi = math.pi\n",
        "\n",
        "a = pi*pow(r,2)\n",
        "print(\"Area of circle is: \",a)"
      ],
      "metadata": {
        "colab": {
          "base_uri": "https://localhost:8080/"
        },
        "id": "9DZ0ATH_NkdU",
        "outputId": "13cb0a3d-0902-44b7-ef4b-d2132747b719"
      },
      "execution_count": null,
      "outputs": [
        {
          "output_type": "stream",
          "name": "stdout",
          "text": [
            "Enter radius: 2\n",
            "Area of circle is:  12.566370614359172\n"
          ]
        }
      ]
    },
    {
      "cell_type": "markdown",
      "source": [
        "# **Program to print all prime number in an interval**"
      ],
      "metadata": {
        "id": "SJTlRMOJPbVU"
      }
    },
    {
      "cell_type": "code",
      "source": [
        "a = int(input(\"Enter upper limit: \"))\n",
        "b = int(input(\"Enter lower limit: \"))\n",
        "\n",
        "#l = []\n",
        "#k = []\n",
        "#for i in range(a,b+1):\n",
        "  #for j in range(1,i+1):\n",
        "    #if j%i == 0:\n",
        "      #l.append(i)\n",
        "  #if len(l) > 2:\n",
        "    #k.append(i)\n",
        "    #l.clear()\n",
        "\n",
        "#print(k)\n",
        "\n",
        "for i in range(a,b+1):\n",
        "  if i>1:\n",
        "    for j in range(2,i):\n",
        "      if i%j == 0:\n",
        "        break\n",
        "    else:\n",
        "      print(i)"
      ],
      "metadata": {
        "colab": {
          "base_uri": "https://localhost:8080/"
        },
        "id": "WcZSgoUWPbHs",
        "outputId": "906bc979-c42d-4e26-e706-b1979777dc54"
      },
      "execution_count": 7,
      "outputs": [
        {
          "output_type": "stream",
          "name": "stdout",
          "text": [
            "Enter upper limit: 1\n",
            "Enter lower limit: 10\n",
            "2\n",
            "3\n",
            "5\n",
            "7\n"
          ]
        }
      ]
    },
    {
      "cell_type": "markdown",
      "source": [
        "# **Program to check whether the given number is prime or not**"
      ],
      "metadata": {
        "id": "CiX1X5dCTYH-"
      }
    },
    {
      "cell_type": "code",
      "source": [
        "n = int(input(\"Enter a number: \"))\n",
        "l = []\n",
        "for i in range(1,n+1):\n",
        "  if n%i == 0:\n",
        "    l.append(i)\n",
        "\n",
        "if len(l) >2:\n",
        "  print(\"The given number is not prime number\")\n",
        "else:\n",
        "  print(\"Given no. is prime number \")"
      ],
      "metadata": {
        "colab": {
          "base_uri": "https://localhost:8080/"
        },
        "id": "nP3GsaX_TX2o",
        "outputId": "16aa78ca-48d0-47f8-dabd-62bd7dd178e0"
      },
      "execution_count": null,
      "outputs": [
        {
          "output_type": "stream",
          "name": "stdout",
          "text": [
            "Enter a number: 13\n",
            "Given no. is prime number \n"
          ]
        }
      ]
    },
    {
      "cell_type": "markdown",
      "source": [
        "# **Program for n-th Fibonacci series**"
      ],
      "metadata": {
        "id": "k9ZYJoChU_Me"
      }
    },
    {
      "cell_type": "code",
      "source": [
        "n = int(input(\"Enter number: \"))\n",
        "\n",
        "def fib(n):\n",
        "  if n== 0:\n",
        "    return 0\n",
        "  elif n==1 or n==2:\n",
        "     return 1\n",
        "  else:\n",
        "      return fib(n-1)+fib(n-2)\n",
        "\n",
        "fib(n)\n",
        "    \n",
        "  \n",
        "  "
      ],
      "metadata": {
        "id": "Y8OJdJzwU991",
        "colab": {
          "base_uri": "https://localhost:8080/"
        },
        "outputId": "a5cf9082-8f27-44a9-da71-6638da283af9"
      },
      "execution_count": 21,
      "outputs": [
        {
          "name": "stdout",
          "output_type": "stream",
          "text": [
            "Enter number: 10\n"
          ]
        },
        {
          "output_type": "execute_result",
          "data": {
            "text/plain": [
              "55"
            ]
          },
          "metadata": {},
          "execution_count": 21
        }
      ]
    }
  ]
}