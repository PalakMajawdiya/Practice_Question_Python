{
  "nbformat": 4,
  "nbformat_minor": 0,
  "metadata": {
    "colab": {
      "name": "Exercise_2_2April.ipynb",
      "provenance": [],
      "collapsed_sections": []
    },
    "kernelspec": {
      "name": "python3",
      "display_name": "Python 3"
    },
    "language_info": {
      "name": "python"
    }
  },
  "cells": [
    {
      "cell_type": "markdown",
      "source": [
        "# **Sum of square of first n natural numbers**"
      ],
      "metadata": {
        "id": "bSOlMV_UqeeF"
      }
    },
    {
      "cell_type": "code",
      "execution_count": null,
      "metadata": {
        "colab": {
          "base_uri": "https://localhost:8080/"
        },
        "id": "MzHXVUTzc1u9",
        "outputId": "f4d1c60a-abad-460d-843b-8957c9cf7755"
      },
      "outputs": [
        {
          "output_type": "stream",
          "name": "stdout",
          "text": [
            "4\n",
            "30\n"
          ]
        }
      ],
      "source": [
        "def sum_square(n):\n",
        "  sum = 0\n",
        "  for i in range(1,n+1):\n",
        "    sum = sum + i*i\n",
        "  print(sum)\n",
        "    \n",
        "n = int(input())\n",
        "sum_square(n)"
      ]
    },
    {
      "cell_type": "markdown",
      "source": [
        "# **Sum of Cube of first n natural numbers**"
      ],
      "metadata": {
        "id": "F6QKZKPKsPXs"
      }
    },
    {
      "cell_type": "code",
      "source": [
        "def sum_cube(n):\n",
        "  sum = 0\n",
        "  for i in range(1,n+1):\n",
        "    sum = sum + i**3\n",
        "  print(sum)\n",
        "\n",
        "n = int(input())\n",
        "sum_cube(n)"
      ],
      "metadata": {
        "colab": {
          "base_uri": "https://localhost:8080/"
        },
        "id": "t-vj-3fRsABS",
        "outputId": "f57f0d35-4123-4176-84f2-61cfad043905"
      },
      "execution_count": null,
      "outputs": [
        {
          "output_type": "stream",
          "name": "stdout",
          "text": [
            "5\n",
            "225\n"
          ]
        }
      ]
    },
    {
      "cell_type": "markdown",
      "source": [
        "# **Find sum of array**"
      ],
      "metadata": {
        "id": "62NVzsw7stHN"
      }
    },
    {
      "cell_type": "code",
      "source": [
        "def sum_array(arr):\n",
        "  sum = 0\n",
        "  for i in range(0,len(arr)):\n",
        "    sum = sum + arr[i]\n",
        "  print(sum)\n",
        "\n",
        "arr = list(map(int,input().split()))\n",
        "sum_array(arr)\n",
        "\n"
      ],
      "metadata": {
        "colab": {
          "base_uri": "https://localhost:8080/"
        },
        "id": "ccl9U-v9ssv4",
        "outputId": "91b2b71f-023f-49a8-da5b-f50a1511e295"
      },
      "execution_count": null,
      "outputs": [
        {
          "output_type": "stream",
          "name": "stdout",
          "text": [
            "2 4 6 8 \n",
            "20\n"
          ]
        }
      ]
    },
    {
      "cell_type": "markdown",
      "source": [
        "# **Find largest element in an array**"
      ],
      "metadata": {
        "id": "kYm7g32OttCE"
      }
    },
    {
      "cell_type": "code",
      "source": [
        "def largest(arr):\n",
        "  max = arr[0]\n",
        "  for i in range(1,len(arr)):\n",
        "    if max < arr[i]:\n",
        "      max = arr[i]\n",
        "  print(max)\n",
        "\n",
        "arr = list(map(int,input().split()))\n",
        "largest(arr)\n"
      ],
      "metadata": {
        "colab": {
          "base_uri": "https://localhost:8080/"
        },
        "id": "1JqJBf8ntqrJ",
        "outputId": "328c4558-8f1a-4425-ce0d-5e8940f0a902"
      },
      "execution_count": null,
      "outputs": [
        {
          "output_type": "stream",
          "name": "stdout",
          "text": [
            "2 4 6 3\n",
            "6\n"
          ]
        }
      ]
    },
    {
      "cell_type": "markdown",
      "source": [
        "# **Print ASCII value of character**"
      ],
      "metadata": {
        "id": "epcGv28GuJ0j"
      }
    },
    {
      "cell_type": "code",
      "source": [
        "#def ascii(char):\n",
        "  #if char.isupper():\n",
        "    #for i in range(65,)\n",
        "#ascii(char)\n",
        "\n",
        "char = input()\n",
        "print(ord(char))"
      ],
      "metadata": {
        "colab": {
          "base_uri": "https://localhost:8080/"
        },
        "id": "wcweOImcuSCz",
        "outputId": "25f2c02d-6929-41c1-b311-5b933639299f"
      },
      "execution_count": null,
      "outputs": [
        {
          "output_type": "stream",
          "name": "stdout",
          "text": [
            "P\n",
            "80\n"
          ]
        }
      ]
    },
    {
      "cell_type": "markdown",
      "source": [
        "# **Program for array rotation**"
      ],
      "metadata": {
        "id": "w99vmdLCw9wU"
      }
    },
    {
      "cell_type": "code",
      "source": [
        "def array_rotation(arr,pos):\n",
        "  a = []\n",
        "  for i in range(pos,len(arr)):\n",
        "    a.append(arr[i])\n",
        "  for i in range(0,pos):\n",
        "    a.append(arr[i])\n",
        "  print(a)\n",
        "\n",
        "\n",
        "\n",
        "arr = list(map(int,input().split()))\n",
        "pos = int(input())\n",
        "array_rotation(arr,pos)"
      ],
      "metadata": {
        "colab": {
          "base_uri": "https://localhost:8080/"
        },
        "id": "0sQeKK57w2eY",
        "outputId": "37a3e59e-b78d-4d00-9959-7e1dd57a130d"
      },
      "execution_count": null,
      "outputs": [
        {
          "output_type": "stream",
          "name": "stdout",
          "text": [
            "1 2 3 4 5\n",
            "3\n",
            "[4, 5, 1, 2, 3]\n"
          ]
        }
      ]
    },
    {
      "cell_type": "markdown",
      "source": [
        "# **Reversal algorithm for array rotation**"
      ],
      "metadata": {
        "id": "34dnkYoI4WAb"
      }
    },
    {
      "cell_type": "code",
      "source": [
        "def rever(arr,pos):\n",
        "  start = [0:pos:1]\n",
        "  print(start)\n",
        "  end = [pos,len(arr)+1]\n",
        "  final = []\n",
        "\n",
        "  start = start.reverse()\n",
        "  end = end.reverse()\n",
        "  print(end)\n",
        "\n",
        "  final.append(end)\n",
        "  final.append(start)\n",
        "  final = final.reverse()\n",
        "  print(final)\n",
        "\n",
        "\n",
        "arr = list(map(int,input().split()))\n",
        "pos = int(input())\n",
        "rever(arr,pos)"
      ],
      "metadata": {
        "colab": {
          "base_uri": "https://localhost:8080/"
        },
        "id": "PpkzZ7Ta4Vh4",
        "outputId": "12e4495e-da8c-4977-c6a0-67f350a1b795"
      },
      "execution_count": null,
      "outputs": [
        {
          "output_type": "stream",
          "name": "stdout",
          "text": [
            "1 2 3 4 5 6\n",
            "2\n",
            "[0, 2]\n",
            "None\n",
            "None\n"
          ]
        }
      ]
    },
    {
      "cell_type": "markdown",
      "source": [
        "# **Split the array and add first part to the end**"
      ],
      "metadata": {
        "id": "60oNWu3W5jwk"
      }
    },
    {
      "cell_type": "code",
      "source": [
        "def split(arr,k):\n",
        "  a = []\n",
        "  for i in range(len(arr)//2,len(arr)):\n",
        "    a.append(arr[i])\n",
        "  for i in range(0,len(arr)//2):\n",
        "    a.append(arr[i])\n",
        "  print(a)\n",
        "\n",
        "arr = list(map(int,input().split()))\n",
        "k = int(input())\n",
        "split(arr,k)\n"
      ],
      "metadata": {
        "colab": {
          "base_uri": "https://localhost:8080/"
        },
        "id": "qiMheFDf5owH",
        "outputId": "f19c96f1-f7f1-4098-b896-a039116a11f2"
      },
      "execution_count": null,
      "outputs": [
        {
          "output_type": "stream",
          "name": "stdout",
          "text": [
            "2 4 6 8 10 12\n",
            "2\n",
            "[8, 10, 12, 2, 4, 6]\n"
          ]
        }
      ]
    },
    {
      "cell_type": "markdown",
      "source": [
        "# **Check if a number is in fibonacci series**"
      ],
      "metadata": {
        "id": "UOf62koL8gIQ"
      }
    },
    {
      "cell_type": "code",
      "source": [
        "#def fibo(n):\n",
        "  #if n == 0:\n",
        "    #return 0\n",
        "  #elif n==1 or n==2:\n",
        "    #return 1\n",
        "  #else:\n",
        "    #return fibo(n-1)+fibo(n-2)\n",
        "\n",
        "\n",
        "import math\n",
        "def isperfectsquare(x):\n",
        "  s = int(math.sqrt(x))\n",
        "  return s*s == x\n",
        "\n",
        "def isfibonacci(n):\n",
        "  return isperfectsquare(5*n*n+4) or isperfectsquare(5*n*n-4)\n",
        "\n",
        "\n",
        "n = int(input())\n",
        "res = isfibonacci(n)\n",
        "if res == True:\n",
        "  print(\"yes\")\n",
        "else:\n",
        "  print(\"no\")\n",
        "\n",
        "\n",
        "\n"
      ],
      "metadata": {
        "colab": {
          "base_uri": "https://localhost:8080/"
        },
        "id": "JlOjGTT48suo",
        "outputId": "6d2ae4ea-f583-4da7-f0d2-892c155fa621"
      },
      "execution_count": null,
      "outputs": [
        {
          "output_type": "stream",
          "name": "stdout",
          "text": [
            "53\n",
            "no\n"
          ]
        }
      ]
    },
    {
      "cell_type": "markdown",
      "source": [
        "# **Program for n'th multiple of number in fibonacci series**"
      ],
      "metadata": {
        "id": "HLkdQHTpBcQQ"
      }
    },
    {
      "cell_type": "code",
      "source": [
        ""
      ],
      "metadata": {
        "id": "jP1RuZOtBbpN"
      },
      "execution_count": null,
      "outputs": []
    }
  ]
}