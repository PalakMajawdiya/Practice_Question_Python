{
  "nbformat": 4,
  "nbformat_minor": 0,
  "metadata": {
    "colab": {
      "name": "Exercise 5_5April.ipynb",
      "provenance": []
    },
    "kernelspec": {
      "name": "python3",
      "display_name": "Python 3"
    },
    "language_info": {
      "name": "python"
    }
  },
  "cells": [
    {
      "cell_type": "markdown",
      "source": [
        "# **Print all negative numbers in a range**"
      ],
      "metadata": {
        "id": "8bp6pkRJke5a"
      }
    },
    {
      "cell_type": "code",
      "execution_count": 1,
      "metadata": {
        "colab": {
          "base_uri": "https://localhost:8080/"
        },
        "id": "F_aDB0Nuj-6f",
        "outputId": "351394a9-8f73-45c9-9b9f-aed765e5d0f9"
      },
      "outputs": [
        {
          "output_type": "stream",
          "name": "stdout",
          "text": [
            "-5\n",
            "8\n",
            "-5\n",
            "-4\n",
            "-3\n",
            "-2\n",
            "-1\n"
          ]
        }
      ],
      "source": [
        "a = int(input())\n",
        "b = int(input())\n",
        "for i in range(a,b+1):\n",
        "  if i<0:\n",
        "    print(i)"
      ]
    },
    {
      "cell_type": "markdown",
      "source": [
        "# **Remove multiple elements from a list**"
      ],
      "metadata": {
        "id": "svAfZ6SokwrO"
      }
    },
    {
      "cell_type": "code",
      "source": [
        "l = list(map(int,input().split()))\n",
        "l1 = list(map(int,input().split()))\n",
        "\n",
        "for i in l1:\n",
        "  if i in l:\n",
        "    l.remove(i)\n",
        "print(l)\n",
        "\n",
        "\n"
      ],
      "metadata": {
        "colab": {
          "base_uri": "https://localhost:8080/"
        },
        "id": "1CU4rXEwkviG",
        "outputId": "8dd78ec3-2387-457f-a349-7176820bbdef"
      },
      "execution_count": 4,
      "outputs": [
        {
          "output_type": "stream",
          "name": "stdout",
          "text": [
            "20 30 40 50\n",
            "20 50\n",
            "[30, 40]\n"
          ]
        }
      ]
    },
    {
      "cell_type": "markdown",
      "source": [
        "# **Cloning or copy a list**"
      ],
      "metadata": {
        "id": "UH8bA3eNlNgT"
      }
    },
    {
      "cell_type": "code",
      "source": [
        "#Shallow copy\n",
        "\n",
        "a = list(map(int,input().split()))\n",
        "s = []\n",
        "s = a\n",
        "print(s)"
      ],
      "metadata": {
        "colab": {
          "base_uri": "https://localhost:8080/"
        },
        "id": "3xo5on9WlVaF",
        "outputId": "f6985b66-e615-474b-8347-c875234db8ca"
      },
      "execution_count": 6,
      "outputs": [
        {
          "output_type": "stream",
          "name": "stdout",
          "text": [
            "2 4 6 8\n",
            "[2, 4, 6, 8]\n"
          ]
        }
      ]
    },
    {
      "cell_type": "code",
      "source": [
        "#deep copy\n",
        "import copy\n",
        "a = list(map(int,input().split()))\n",
        "s = a.copy()\n",
        "print(s)\n"
      ],
      "metadata": {
        "colab": {
          "base_uri": "https://localhost:8080/"
        },
        "id": "ADBUJD4KnLB6",
        "outputId": "ab62c1a5-1f04-4570-ab10-cd6e48d180b8"
      },
      "execution_count": 7,
      "outputs": [
        {
          "output_type": "stream",
          "name": "stdout",
          "text": [
            "2 4 6 8\n",
            "[2, 4, 6, 8]\n"
          ]
        }
      ]
    },
    {
      "cell_type": "markdown",
      "source": [
        "# **Count occurences of an element in a list**"
      ],
      "metadata": {
        "id": "mvpRaxyQnXyY"
      }
    },
    {
      "cell_type": "code",
      "source": [
        "l = list(map(int,input().split()))\n",
        "el = int(input())\n",
        "count = 0\n",
        "for i in l:\n",
        "  if i==el:\n",
        "    count +=1\n",
        "print(count)"
      ],
      "metadata": {
        "colab": {
          "base_uri": "https://localhost:8080/"
        },
        "id": "mqcpx7klnXKL",
        "outputId": "35174290-a3b5-4800-dd03-ae932ba43436"
      },
      "execution_count": 8,
      "outputs": [
        {
          "output_type": "stream",
          "name": "stdout",
          "text": [
            "20 30 40 20 20 30\n",
            "20\n",
            "3\n"
          ]
        }
      ]
    },
    {
      "cell_type": "markdown",
      "source": [
        "# **Print duplicates from a list of integers**"
      ],
      "metadata": {
        "id": "1kfW4pzTntIf"
      }
    },
    {
      "cell_type": "code",
      "source": [
        "l = list(map(int,input().split()))\n",
        "l1 = []\n",
        "for i in l:\n",
        "  if i not in l1:\n",
        "    l1.append(i)\n",
        "  else:\n",
        "    print(i)"
      ],
      "metadata": {
        "colab": {
          "base_uri": "https://localhost:8080/"
        },
        "id": "FjnOm59yn32H",
        "outputId": "758aabc2-0510-4522-c131-8cb95667fe46"
      },
      "execution_count": 9,
      "outputs": [
        {
          "output_type": "stream",
          "name": "stdout",
          "text": [
            "20 30 20 10 40 50 30 60\n",
            "20\n",
            "30\n"
          ]
        }
      ]
    },
    {
      "cell_type": "markdown",
      "source": [
        "# **Find Cumulative sum of a list**"
      ],
      "metadata": {
        "id": "yFDXeRzXoZxn"
      }
    },
    {
      "cell_type": "code",
      "source": [
        "l = list(map(int,input().split()))\n",
        "l1 = []\n",
        "sum = 0\n",
        "for i in range(0,len(l)):\n",
        "  sum = sum + l[i]\n",
        "  l1.append(sum)\n",
        "print(l1)"
      ],
      "metadata": {
        "colab": {
          "base_uri": "https://localhost:8080/"
        },
        "id": "OZsLQWivo0eF",
        "outputId": "a35513ad-25e9-493a-8ae4-49b892994267"
      },
      "execution_count": 13,
      "outputs": [
        {
          "output_type": "stream",
          "name": "stdout",
          "text": [
            "2 4 6 8 10\n",
            "[2, 6, 12, 20, 30]\n"
          ]
        }
      ]
    },
    {
      "cell_type": "markdown",
      "source": [
        "# **sum of number digits in list**"
      ],
      "metadata": {
        "id": "igyWAnonsNdd"
      }
    },
    {
      "cell_type": "code",
      "source": [
        "l = list(map(int,input().split()))\n",
        "l1 = []\n",
        "sum = 0\n",
        "for i in l:\n",
        "  for j in str(i):\n",
        "    sum = sum + int(j)\n",
        "  l1.append(sum)\n",
        "  sum = 0\n",
        "\n",
        "print(l1)\n",
        "  "
      ],
      "metadata": {
        "colab": {
          "base_uri": "https://localhost:8080/"
        },
        "id": "SlzTjI6SsVe5",
        "outputId": "0b45c958-fe1f-4a06-e7f3-16dbef537c1f"
      },
      "execution_count": 14,
      "outputs": [
        {
          "output_type": "stream",
          "name": "stdout",
          "text": [
            "12 34 56\n",
            "[3, 7, 11]\n"
          ]
        }
      ]
    },
    {
      "cell_type": "markdown",
      "source": [
        "# **Remove empty list from list**"
      ],
      "metadata": {
        "id": "cF5lpnu2tGg5"
      }
    },
    {
      "cell_type": "code",
      "source": [
        "\n",
        "    "
      ],
      "metadata": {
        "id": "9Vonyj8KtQCS"
      },
      "execution_count": 18,
      "outputs": []
    },
    {
      "cell_type": "markdown",
      "source": [
        "# **Remove empty tuples from a list**"
      ],
      "metadata": {
        "id": "BQEzuUmtuu7Y"
      }
    },
    {
      "cell_type": "code",
      "source": [
        "l = list(map(int,input().split()))\n"
      ],
      "metadata": {
        "id": "n-Rdh-9Ouun4"
      },
      "execution_count": null,
      "outputs": []
    },
    {
      "cell_type": "markdown",
      "source": [
        "# **Break a list into chunks of size N into python**"
      ],
      "metadata": {
        "id": "XWNVHcOuv1yW"
      }
    },
    {
      "cell_type": "code",
      "source": [
        "l = list(map(int,input().split()))\n",
        "n = int(input())\n",
        "l1 = []\n"
      ],
      "metadata": {
        "id": "6vFm2-06v0xS"
      },
      "execution_count": null,
      "outputs": []
    }
  ]
}