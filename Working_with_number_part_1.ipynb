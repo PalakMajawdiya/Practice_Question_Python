{
  "nbformat": 4,
  "nbformat_minor": 0,
  "metadata": {
    "colab": {
      "name": "Working_with_number_part_1.ipynb",
      "provenance": []
    },
    "kernelspec": {
      "name": "python3",
      "display_name": "Python 3"
    },
    "language_info": {
      "name": "python"
    }
  },
  "cells": [
    {
      "cell_type": "code",
      "source": [
        "#sum of first natural number\n",
        "\n",
        "n = int(input())\n",
        "\n",
        "sum = (n*(n+1))//2\n",
        "print(sum)"
      ],
      "metadata": {
        "id": "qfuDkARspHrG",
        "colab": {
          "base_uri": "https://localhost:8080/"
        },
        "outputId": "699260be-b040-4c1e-c5b1-c15df4d3030c"
      },
      "execution_count": null,
      "outputs": [
        {
          "output_type": "stream",
          "name": "stdout",
          "text": [
            "8\n",
            "36\n"
          ]
        }
      ]
    },
    {
      "cell_type": "code",
      "source": [
        "#Greatest of three numbers\n",
        "\n",
        "a,b,c = map(int , input().split())\n",
        "\n",
        "if a>=b and a>=c:\n",
        "  print(a)\n",
        "elif b>=a and b>=c:\n",
        "  print(b)\n",
        "else:\n",
        "  print(c)"
      ],
      "metadata": {
        "colab": {
          "base_uri": "https://localhost:8080/"
        },
        "id": "F7byPhOyrtht",
        "outputId": "4b9bb9c5-22f4-40aa-9434-4b75bb2b3652"
      },
      "execution_count": null,
      "outputs": [
        {
          "output_type": "stream",
          "name": "stdout",
          "text": [
            "14 14 3\n",
            "14\n"
          ]
        }
      ]
    },
    {
      "cell_type": "code",
      "source": [
        "# Number is prime or not\n",
        "\n",
        "n = int(input())\n",
        "\n",
        "if n > 1:\n",
        "  for i in range(2, n//2):\n",
        "    if n%i==0:\n",
        "      print(\"Not a prime number\")\n",
        "      break\n",
        "  else:\n",
        "    print(\"prime number\")\n",
        "\n",
        "else:\n",
        "  print('Not a prime number')"
      ],
      "metadata": {
        "id": "6zP1xDFHsQS2",
        "colab": {
          "base_uri": "https://localhost:8080/"
        },
        "outputId": "a8dbda10-878c-4e72-f0ee-9b7898317e19"
      },
      "execution_count": 18,
      "outputs": [
        {
          "output_type": "stream",
          "name": "stdout",
          "text": [
            "9\n",
            "Not a prime number\n"
          ]
        }
      ]
    },
    {
      "cell_type": "code",
      "source": [
        "#Prime number within a given range\n",
        "a , b = map(int , input().split())\n",
        "\n",
        "for i in range(a , b+1):\n",
        "  for j in range(2 , (i//2)+1):\n",
        "    if i%j == 0:\n",
        "      break\n",
        "  else:\n",
        "    print(i , end = ' ')\n",
        "      "
      ],
      "metadata": {
        "colab": {
          "base_uri": "https://localhost:8080/"
        },
        "id": "--U-cMK6BmlR",
        "outputId": "c1d88623-332e-4f7d-fcca-39fbcb46d1f7"
      },
      "execution_count": 29,
      "outputs": [
        {
          "output_type": "stream",
          "name": "stdout",
          "text": [
            "2 15\n",
            "2 3 5 7 11 13 "
          ]
        }
      ]
    },
    {
      "cell_type": "code",
      "source": [
        "# Reverse of a number\n",
        "\n",
        "n = int(input())\n",
        "\n",
        "rev = str(n)\n",
        "res = rev[::-1]\n",
        "print(int(res))\n"
      ],
      "metadata": {
        "colab": {
          "base_uri": "https://localhost:8080/"
        },
        "id": "odd7mwCWElMW",
        "outputId": "2f4b64cf-53f2-4fbe-f611-5e8e51bc10e6"
      },
      "execution_count": 31,
      "outputs": [
        {
          "output_type": "stream",
          "name": "stdout",
          "text": [
            "124\n",
            "421\n"
          ]
        }
      ]
    },
    {
      "cell_type": "code",
      "source": [
        "# Armstrong number in a given range\n",
        "\n",
        "l , h = map(int , input().split())\n",
        "\n",
        "for i in range(l , h+1):\n",
        "  n = len(str(i))\n",
        "  sum = 0\n",
        "  for j in str(i):\n",
        "    sum = sum + pow(int(j) , n)\n",
        "  if sum == i:\n",
        "    print(i , end = ' ')\n"
      ],
      "metadata": {
        "colab": {
          "base_uri": "https://localhost:8080/"
        },
        "id": "IargHGqgK8bB",
        "outputId": "4fb2a5c5-d330-4505-f58b-e817caf3cea1"
      },
      "execution_count": 41,
      "outputs": [
        {
          "output_type": "stream",
          "name": "stdout",
          "text": [
            "10 1000\n",
            "153 370 371 407 "
          ]
        }
      ]
    },
    {
      "cell_type": "code",
      "source": [
        "# Fibonacci series upto nth term\n",
        "\n",
        "n = int(input())\n",
        "s = 0\n",
        "n1 = 0\n",
        "n2 = 1\n",
        "\n",
        "print(n1 , n2 , end = ' ')\n",
        "for i in range(2 , n+1):\n",
        "  n3 = n1+n2\n",
        "  n1 = n2\n",
        "  n2 = n3\n",
        "  print(n3 , end = ' ')\n",
        "    \n"
      ],
      "metadata": {
        "colab": {
          "base_uri": "https://localhost:8080/"
        },
        "id": "57_TjGakOhgH",
        "outputId": "65e6b554-3cf4-430e-d00b-ad01cd420ecd"
      },
      "execution_count": 49,
      "outputs": [
        {
          "output_type": "stream",
          "name": "stdout",
          "text": [
            "4\n",
            "0 1 1 2 3 "
          ]
        }
      ]
    },
    {
      "cell_type": "code",
      "source": [
        "# Find nth term of fibonacci series\n",
        "\n",
        "n = int(input())\n",
        "l = []\n",
        "\n",
        "n1 = 0\n",
        "n2 = 1\n",
        "\n",
        "l.append(n1)\n",
        "l.append(n2)\n",
        "for i in range(2 , n):\n",
        "  n3 = n1+n2\n",
        "  n1 = n2\n",
        "  n2 = n3\n",
        "  l.append(n3)\n",
        "\n",
        "print(l[n-1])"
      ],
      "metadata": {
        "colab": {
          "base_uri": "https://localhost:8080/"
        },
        "id": "wS852SSBNQe-",
        "outputId": "573360c2-21d4-4ce0-d539-ad5910d40c83"
      },
      "execution_count": 56,
      "outputs": [
        {
          "output_type": "stream",
          "name": "stdout",
          "text": [
            "10\n",
            "34\n"
          ]
        }
      ]
    },
    {
      "cell_type": "code",
      "source": [
        "# Factors of a number\n",
        "\n",
        "n = int(input())\n",
        "\n",
        "for i in range(1 , n+1):\n",
        "  if n%i==0:\n",
        "    print(i , end = ' ')"
      ],
      "metadata": {
        "colab": {
          "base_uri": "https://localhost:8080/"
        },
        "id": "KB-DQ6RmRkTu",
        "outputId": "2dcc898f-a597-45c3-a37a-8fc7a9af42b3"
      },
      "execution_count": 61,
      "outputs": [
        {
          "output_type": "stream",
          "name": "stdout",
          "text": [
            "100\n",
            "1 2 4 5 10 20 25 50 100 "
          ]
        }
      ]
    },
    {
      "cell_type": "code",
      "source": [
        "# Prime factors of a number\n",
        "\n",
        "def isprime(i):\n",
        "  for j in range(2 , i//2):\n",
        "    if i%j==0:\n",
        "      return False\n",
        "  else:\n",
        "    return True\n",
        "\n",
        "\n",
        "n = int(input())\n",
        "for i in range(2 , n+1):\n",
        "  if n%i==0 and isprime(i):\n",
        "    print(i , end = ' ')"
      ],
      "metadata": {
        "colab": {
          "base_uri": "https://localhost:8080/"
        },
        "id": "qittOkVDTFyZ",
        "outputId": "e17625d2-578d-45f7-8222-215dd368076a"
      },
      "execution_count": 64,
      "outputs": [
        {
          "output_type": "stream",
          "name": "stdout",
          "text": [
            "210\n",
            "2 3 5 7 "
          ]
        }
      ]
    },
    {
      "cell_type": "code",
      "source": [
        "# Check wether a number is perfect or not\n",
        "\n",
        "n = int(input())\n",
        "s = 0\n",
        "for i in range( 1 , (n//2)+1):\n",
        "  if n%i==0:\n",
        "    s = s + i\n",
        "\n",
        "if s == n:\n",
        "  print('Perfect number')\n",
        "else:\n",
        "  print('Not a perfect number')"
      ],
      "metadata": {
        "colab": {
          "base_uri": "https://localhost:8080/"
        },
        "id": "tytHGP9vUBjT",
        "outputId": "b549be8d-b000-42e4-f945-b67df5e9a1a5"
      },
      "execution_count": 68,
      "outputs": [
        {
          "output_type": "stream",
          "name": "stdout",
          "text": [
            "28\n",
            "Perfect number\n"
          ]
        }
      ]
    },
    {
      "cell_type": "code",
      "source": [
        "# Check for automorphic number\n",
        "# Automorphic number is when the square of a digit ends with the same digit\n",
        "\n",
        "n = int(input())\n",
        "sq = pow(n , 2)\n",
        "m = pow(10 , len(str(sq)))\n",
        "\n",
        "if sq  % m  == sq:\n",
        "  print('Yes automorphic')\n",
        "else:\n",
        "  print('Not automorphic')"
      ],
      "metadata": {
        "colab": {
          "base_uri": "https://localhost:8080/"
        },
        "id": "UmmjmwOAV8nX",
        "outputId": "6682fd95-9efb-41c5-c3ff-291d0a444f69"
      },
      "execution_count": 74,
      "outputs": [
        {
          "output_type": "stream",
          "name": "stdout",
          "text": [
            "376\n",
            "Yes automorphic\n"
          ]
        }
      ]
    },
    {
      "cell_type": "code",
      "source": [
        "#check for harshad number \n",
        "#Harshad number is a number which is divisible by sum of it's digit\n",
        "\n",
        "n = int(input())\n",
        "s = 0\n",
        "for i in str(n):\n",
        "  s = s + int(i)\n",
        "\n",
        "if n%s == 0:\n",
        "  print('Harshad number')\n",
        "else:\n",
        "  print('Not s harshad number')\n",
        "\n",
        "  "
      ],
      "metadata": {
        "colab": {
          "base_uri": "https://localhost:8080/"
        },
        "id": "sy1Bz_wkXeB_",
        "outputId": "f2ca75d6-01ab-4a33-ff26-615c1537f0de"
      },
      "execution_count": 76,
      "outputs": [
        {
          "output_type": "stream",
          "name": "stdout",
          "text": [
            "24\n",
            "Harshad number\n"
          ]
        }
      ]
    },
    {
      "cell_type": "code",
      "source": [
        "# Chcek for abundant number\n",
        "# a number is abundant if sum of it's factor greater than the number itself\n",
        "\n",
        "n = int(input())\n",
        "s = 0\n",
        "for i in range(1 , (n//2)+1):\n",
        "  if n%i == 0:\n",
        "    s = s+i\n",
        "\n",
        "print(s)\n",
        "if s > n:\n",
        "  print('Abundant number')\n",
        "else:\n",
        "  print('Not an abundant number')"
      ],
      "metadata": {
        "colab": {
          "base_uri": "https://localhost:8080/"
        },
        "id": "WsFRcSqyZwA_",
        "outputId": "9d20072e-a938-4599-996b-02bb2d7b2464"
      },
      "execution_count": 84,
      "outputs": [
        {
          "output_type": "stream",
          "name": "stdout",
          "text": [
            "12\n",
            "16\n",
            "Abundant number\n"
          ]
        }
      ]
    },
    {
      "cell_type": "code",
      "source": [
        "# find friendly pair of a number \n",
        "\n",
        "def factor(a):\n",
        "  s = 0\n",
        "  for i in range(1 , (a//2)+1):\n",
        "    if a%i==0:\n",
        "      s = s + i\n",
        "  return s\n",
        "\n",
        "\n",
        "a , b = map(int , input().split())\n",
        "s1 = factor(a)\n",
        "s2 = factor(b)\n",
        "\n",
        "\n",
        "if s1/a == s2/b:\n",
        "  print('They are friendly pairs')\n",
        "else:\n",
        "  print('no they are not friendly pairs')\n"
      ],
      "metadata": {
        "colab": {
          "base_uri": "https://localhost:8080/"
        },
        "id": "vZgtrxY8ajMt",
        "outputId": "8aa6e5fb-4766-4b13-c006-95ab70e671ac"
      },
      "execution_count": 88,
      "outputs": [
        {
          "output_type": "stream",
          "name": "stdout",
          "text": [
            "6 28\n",
            "They are friendly pairs\n"
          ]
        }
      ]
    },
    {
      "cell_type": "code",
      "source": [
        ""
      ],
      "metadata": {
        "id": "wGtu6h5ndX14"
      },
      "execution_count": null,
      "outputs": []
    }
  ]
}